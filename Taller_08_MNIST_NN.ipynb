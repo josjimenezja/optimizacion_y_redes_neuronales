{
  "nbformat": 4,
  "nbformat_minor": 0,
  "metadata": {
    "colab": {
      "name": "Taller 08. MNIST-NN.ipynb",
      "provenance": [],
      "collapsed_sections": []
    },
    "kernelspec": {
      "display_name": "Python 3",
      "name": "python3"
    },
    "accelerator": "GPU"
  },
  "cells": [
    {
      "cell_type": "markdown",
      "metadata": {
        "id": "bgSGZolHqmit"
      },
      "source": [
        "#Taller 08. Decisiones Bajo Incertidumbre \n",
        "\n",
        "- Lina María Moreno\n",
        "- Juan David Valencia\n",
        "- Joan Sebastian Jiménez\n",
        "- Camilo Andrés Figueroa\n",
        "\n",
        "\n",
        "\n"
      ]
    },
    {
      "cell_type": "markdown",
      "metadata": {
        "id": "2d_453c2jHT4"
      },
      "source": [
        "#Optimización y redes neuronales\n",
        "El objetivo de esta actividad es afianzar los conocimientos de optimización numérica y su importancia en el entrenamiento de modelos de aprendizaje de máquina.\n",
        "\n",
        "Para ello se considera el tutorial de reconocimiento de dígitos con el conjunto de datos MNIST de la Guia inicial de TensorFlow 2.0 para principiantes.\n",
        "\n",
        "El conjunto de entrenamiento contiene 60,000 imágenes de entrenamiento y 10,000 imágenes de validación.\n",
        "\n",
        "#Actividades\n",
        "\n",
        "1. Reproduzca el tutorial citado completándolo con la fórmula matemática de la función de pérdida.\n",
        "\n",
        "2. El entrenamiento con un alto volúmen de imágenes tiene a producir buenos resultados independiente del optimizador. Cambie el método de optimización por\n",
        "\n",
        "+ SGD\n",
        "+ RSMprop\n",
        "+ Adagram\n",
        "+ Adadelta\n",
        "\n",
        "  En cada caso varíe la tasa de aprendizaje η=0.001,0.1,0.5,0.9,1.5 manteniendo los otros parámetros del optimizador en sus valores por defecto. Reporte el accuracy en el conjunto de datos en entrenamiento y validaciónn (los 10,000 datos). Reporte las gráficas de la función de pérdida y del accuracy durante el proceso de optimización.\n",
        "\n",
        "3. Reduzca el volumen de datos al 0.05% (600 datos). Esto eleva la dificultad del problema al contar con menos datos. Repita la actividad del punto anterior. Considerando que el sobreentrenamiento es una diferencia importante en la métrica de desempeño obtenida en entrenamiento y validación responda las siguientes preguntas:\n",
        "\n",
        "+ ¿Cuál fue el método de optimización menos afectado por la reducción del conjunto de datos?\n",
        "+ ¿Cuál fue la tasa de aprendizaje menos afectada por la reducción del conjunto de datos?\n",
        "+ ¿Cuál fue el método que más rápido convergió?\n"
      ]
    },
    {
      "cell_type": "markdown",
      "metadata": {
        "id": "1SHInocljuiB"
      },
      "source": [
        "# Resultados"
      ]
    },
    {
      "cell_type": "markdown",
      "metadata": {
        "id": "nnrWf3PCEzXL"
      },
      "source": [
        "Importación de librerias a ser utilizadas durante el ejercicio:"
      ]
    },
    {
      "cell_type": "code",
      "metadata": {
        "id": "0trJmd6DjqBZ"
      },
      "source": [
        "# Import required libraries\n",
        "\n",
        "import tensorflow as tf\n",
        "import matplotlib.pyplot as plt\n",
        "import numpy as np\n",
        "import random as rnd"
      ],
      "execution_count": 1,
      "outputs": []
    },
    {
      "cell_type": "markdown",
      "metadata": {
        "id": "Mik2nS1sg35X"
      },
      "source": [
        "1. Fórmula matemática de la función de pérdida:\n",
        "\n",
        "En este ejercicio se utilizará sparse_categorical_crossentropy, se diferencia de categorical_crossentropy porque la última requiere del uso de one hot encoding, en el caso de sparse_categorical_crossentropy las clases son mutuamente excluyentes, en este caso un número solo puede pertenecer a una clase y su representación se puede hacer con números enteros, no con vectores de 1's y 0's. \n",
        "\n",
        "\n",
        "Fuentes: \n",
        "\n",
        "* https://stats.stackexchange.com/questions/326065/cross-entropy-vs-sparse-cross-entropy-when-to-use-one-over-the-other\n",
        "\n",
        "* https://datascience.stackexchange.com/questions/41921/sparse-categorical-crossentropy-vs-categorical-crossentropy-keras-accuracy"
      ]
    },
    {
      "cell_type": "code",
      "metadata": {
        "id": "jYBdI57-g3jQ"
      },
      "source": [
        "loss_function = tf.keras.losses.SparseCategoricalCrossentropy()"
      ],
      "execution_count": 2,
      "outputs": []
    },
    {
      "cell_type": "markdown",
      "metadata": {
        "id": "bPjWmCiL3fGq"
      },
      "source": [
        "La ecuación que se muestra a continuación corresponde a la fórmula de categorical cross-entropy.\n",
        "N es el número total de los elementos dentro del dataset, **S** el número de muestras y **C** el número de clases. \n",
        "\n",
        "$$ -\\frac{1}{N} \\sum_{s\\in S} \\sum_{c \\in C} 1_{s\\in c} log {p(s \\in c)} $$\n",
        "\n",
        "En caso de que las pertenencias de los elementos sean exclusivas a una clase(sparse_categorical_crossentropy) no es necesario sumar sobre las clases, solo se considera el valor interior $$ - log {p(s \\in c)} $$ para la verdadera clase **C**, es decir que solo se realiza la sumatoria utilizando las probabilidades de la **clase verdadera** para cada muestra, no sobre todas las clases. \n",
        "\n",
        "$$ -\\frac{1}{N} \\sum_{s\\in S}  log {p(s \\in c)} $$\n"
      ]
    },
    {
      "cell_type": "code",
      "metadata": {
        "colab": {
          "base_uri": "https://localhost:8080/"
        },
        "id": "QuTHNBeov-fU",
        "outputId": "46181ab5-f792-4c69-8979-dc2af773a4ad"
      },
      "source": [
        "#Uso de la función de perdida de la librería de tensorflow\n",
        "y_true = [1, 2]#Entero => Sparse\n",
        "y_pred = [[0.05, 0.95, 0], [0.1, 0.8, 0.1]]#Vectores de probabilidad, en nuestro ejercicio son 10\n",
        "loss = tf.keras.losses.SparseCategoricalCrossentropy()\n",
        "print(loss(y_true, y_pred).numpy())"
      ],
      "execution_count": 3,
      "outputs": [
        {
          "output_type": "stream",
          "text": [
            "1.1769392\n"
          ],
          "name": "stdout"
        }
      ]
    },
    {
      "cell_type": "code",
      "metadata": {
        "id": "PE4-KLLl62Cf"
      },
      "source": [
        "#Función matemática manual de la función de perdida que se va a utilizar en el ejercicio \n",
        "def mySparseCatLossFunction (y, pred):\n",
        "  \"\"\"Función de pérdida: Sparse categorical crossentropy manual\"\"\"\n",
        "  size = len(y)\n",
        "  accum = 0\n",
        "  for i in range(size):\n",
        "    accum += np.log(pred[i][y[i]])\n",
        "  return ((-1/size) * accum)"
      ],
      "execution_count": 4,
      "outputs": []
    },
    {
      "cell_type": "markdown",
      "metadata": {
        "id": "Xden83cJAXPN"
      },
      "source": [
        "Como se puede observar se llego al mismo resultado que al utilizar la librería, por lo que se verifica que el funcionamiento es correcto"
      ]
    },
    {
      "cell_type": "code",
      "metadata": {
        "colab": {
          "base_uri": "https://localhost:8080/"
        },
        "id": "Yvd6so8f683L",
        "outputId": "423fe8a0-fc36-4279-c967-5fd552de88b7"
      },
      "source": [
        "mySparseCatLossFunction(y_true, y_pred)"
      ],
      "execution_count": 5,
      "outputs": [
        {
          "output_type": "execute_result",
          "data": {
            "text/plain": [
              "1.176939193690798"
            ]
          },
          "metadata": {
            "tags": []
          },
          "execution_count": 5
        }
      ]
    },
    {
      "cell_type": "markdown",
      "metadata": {
        "id": "7NAbSZiaoJ4z"
      },
      "source": [
        "\n",
        "Carga y prepara el conjunto de datos [MNIST](http://yann.lecun.com/exdb/mnist/). Convierte los ejemplos de numeros enteros a numeros de punto flotante:"
      ]
    },
    {
      "cell_type": "code",
      "metadata": {
        "id": "7FP5258xjs-v",
        "colab": {
          "base_uri": "https://localhost:8080/"
        },
        "outputId": "b87e73af-76ba-4d6f-ef63-647af557b6d5"
      },
      "source": [
        "mnist = tf.keras.datasets.mnist\n",
        "\n",
        "(x_train, y_train), (x_test, y_test) = mnist.load_data()\n",
        "x_train, x_test = x_train / 255.0, x_test / 255.0"
      ],
      "execution_count": 6,
      "outputs": [
        {
          "output_type": "stream",
          "text": [
            "Downloading data from https://storage.googleapis.com/tensorflow/tf-keras-datasets/mnist.npz\n",
            "11493376/11490434 [==============================] - 0s 0us/step\n"
          ],
          "name": "stdout"
        }
      ]
    },
    {
      "cell_type": "code",
      "metadata": {
        "colab": {
          "base_uri": "https://localhost:8080/",
          "height": 281
        },
        "id": "g2Ivklbyd6N1",
        "outputId": "35650f9a-3d1f-4753-dc1f-ee64f8565666"
      },
      "source": [
        "rpos = rnd.randrange(0, len(x_train))\n",
        "plt.figure()\n",
        "plt.imshow(x_train[rpos],cmap=plt.cm.binary)\n",
        "plt.title(\"Posición {} - Número {}\".format(rpos, y_train[rpos]))\n",
        "plt.show()"
      ],
      "execution_count": 7,
      "outputs": [
        {
          "output_type": "display_data",
          "data": {
            "image/png": "[encoded data removed]",
            "text/plain": [
              "<Figure size 432x288 with 1 Axes>"
            ]
          },
          "metadata": {
            "tags": [],
            "needs_background": "light"
          }
        }
      ]
    },
    {
      "cell_type": "markdown",
      "metadata": {
        "id": "Jgi2pz_avoQM"
      },
      "source": [
        "2. Realizar el entrenamiento con los datos completos y reportar el accuracy del conjunto de datos de entrenamiento y validación. Para el desarrollo de este ejercicio se tendrán en cuenta los \n",
        "siguientes  <strong>hiperparametros a optimizar: </strong>\n",
        "\n",
        "* Learning rate (0.001,0.1,0.5,0.9,1.5) => (0.001, 0.01, 0.05, 0.1, 0.25,  0.5, 0.75,  0.9, 1, 1.2, 1.35, 1.5)\n",
        "* Optimizadores (SDG, RSMprop, Adagrad, Adadelta, Adam) \n"
      ]
    },
    {
      "cell_type": "code",
      "metadata": {
        "id": "8HsWSDKrwgCb"
      },
      "source": [
        "learning_rates = [0.001, 0.01, 0.05, 0.1, 0.25,  0.5, 0.75,  0.9, 1, 1.2, 1.35, 1.5]\n",
        "optimizers = ['SGD', 'RMSprop', 'Adagrad', 'Adadelta', 'Adam']"
      ],
      "execution_count": 8,
      "outputs": []
    },
    {
      "cell_type": "markdown",
      "metadata": {
        "id": "BPZ68wASog_I"
      },
      "source": [
        "Se basa el ejercicio en un modelo `tf.keras.Sequential`  apilando capas. Dento del cuál se van a utilizar los optimizadores y learning_rates definidos anteriormente. En total se van a evaluar 5 optimizadores y por cada optimizador 12 learning rates diferentes, por lo que se realizarían 60 pruebas para este ejercicio, dentro del mismo se guarda las  métricas del rendimiento del modelo tanto en entrenamiento como en validación para análisis posteriores.  "
      ]
    },
    {
      "cell_type": "code",
      "metadata": {
        "colab": {
          "base_uri": "https://localhost:8080/"
        },
        "id": "Scm5p0HmxZak",
        "outputId": "75949e8d-337b-4afe-9466-622f003ae089"
      },
      "source": [
        "#results = {}\n",
        "SGD_train = []\n",
        "RMSprop_train = []\n",
        "Adagrad_train = []\n",
        "Adadelta_train = []\n",
        "Adam_train = []\n",
        "\n",
        "SGD_val = []\n",
        "RMSprop_val = []\n",
        "Adagrad_val = []\n",
        "Adadelta_val = []\n",
        "Adam_val = []\n",
        "\n",
        "for my_optimizer in optimizers:\n",
        "  for my_lr in learning_rates:\n",
        "    model = tf.keras.models.Sequential([\n",
        "      tf.keras.layers.Flatten(input_shape=(28, 28)),\n",
        "      tf.keras.layers.Dense(128, activation='relu'),\n",
        "      tf.keras.layers.Dropout(0.2),\n",
        "      tf.keras.layers.Dense(10, activation='softmax')\n",
        "    ])\n",
        "    #opt = tf.keras.optimizers.Adam(learning_rate=my_lr)\n",
        "    #str_opt = \"tf.keras.optimizers.\" + optimizers[1] + \"(learning_rate=my_lr)\"\n",
        "    str_opt = \"tf.keras.optimizers.{}(learning_rate={})\".format(my_optimizer, my_lr)\n",
        "    opt = eval(str_opt)\n",
        "    model.compile(optimizer=opt,\n",
        "                  loss='sparse_categorical_crossentropy',\n",
        "                  metrics=['accuracy'])\n",
        "    model.fit(x_train, y_train, epochs=5)\n",
        "    #results[my_optimizer + str(my_lr) +'_train_acc'] = model.history.history[\"accuracy\"][-1]\n",
        "    arr_str_t = \"{}_train.append(model.history.history['accuracy'][-1])\".format(my_optimizer)\n",
        "    eval(arr_str_t)\n",
        "    #results[my_optimizer + str(my_lr) +'_test_acc'] = model.evaluate(x_test,  y_test, verbose=2)[1]\n",
        "    arr_str_v = \"{}_val.append(model.evaluate(x_test,  y_test, verbose=2)[1])\".format(my_optimizer)\n",
        "    eval(arr_str_v)"
      ],
      "execution_count": 9,
      "outputs": [
        {
          "output_type": "stream",
          "text": [
            "Epoch 1/5\n",
            "1875/1875 [==============================] - 6s 2ms/step - loss: 1.7144 - accuracy: 0.5165\n",
            "Epoch 2/5\n",
            "1875/1875 [==============================] - 3s 2ms/step - loss: 1.0222 - accuracy: 0.7570\n",
            "Epoch 3/5\n",
            "1875/1875 [==============================] - 3s 2ms/step - loss: 0.7596 - accuracy: 0.8023\n",
            "Epoch 4/5\n",
            "1875/1875 [==============================] - 3s 2ms/step - loss: 0.6406 - accuracy: 0.8285\n",
            "Epoch 5/5\n",
            "1875/1875 [==============================] - 3s 2ms/step - loss: 0.5727 - accuracy: 0.8429\n",
            "313/313 - 1s - loss: 0.4628 - accuracy: 0.8842\n",
            "Epoch 1/5\n",
            "1875/1875 [==============================] - 4s 2ms/step - loss: 0.7202 - accuracy: 0.8048\n",
            "Epoch 2/5\n",
            "1875/1875 [==============================] - 3s 2ms/step - loss: 0.3870 - accuracy: 0.8904\n",
            "Epoch 3/5\n",
            "1875/1875 [==============================] - 3s 2ms/step - loss: 0.3245 - accuracy: 0.9088\n",
            "Epoch 4/5\n",
            "1875/1875 [==============================] - 3s 2ms/step - loss: 0.2878 - accuracy: 0.9179\n",
            "Epoch 5/5\n",
            "1875/1875 [==============================] - 4s 2ms/step - loss: 0.2601 - accuracy: 0.9257\n",
            "313/313 - 1s - loss: 0.2102 - accuracy: 0.9410\n",
            "Epoch 1/5\n",
            "1875/1875 [==============================] - 4s 2ms/step - loss: 0.4062 - accuracy: 0.8839\n",
            "Epoch 2/5\n",
            "1875/1875 [==============================] - 4s 2ms/step - loss: 0.2233 - accuracy: 0.9352\n",
            "Epoch 3/5\n",
            "1875/1875 [==============================] - 3s 2ms/step - loss: 0.1768 - accuracy: 0.9484\n",
            "Epoch 4/5\n",
            "1875/1875 [==============================] - 4s 2ms/step - loss: 0.1499 - accuracy: 0.9564\n",
            "Epoch 5/5\n",
            "1875/1875 [==============================] - 3s 2ms/step - loss: 0.1317 - accuracy: 0.9611\n",
            "313/313 - 0s - loss: 0.1029 - accuracy: 0.9688\n",
            "Epoch 1/5\n",
            "1875/1875 [==============================] - 4s 2ms/step - loss: 0.3207 - accuracy: 0.9068\n",
            "Epoch 2/5\n",
            "1875/1875 [==============================] - 3s 2ms/step - loss: 0.1655 - accuracy: 0.9522\n",
            "Epoch 3/5\n",
            "1875/1875 [==============================] - 3s 2ms/step - loss: 0.1291 - accuracy: 0.9618\n",
            "Epoch 4/5\n",
            "1875/1875 [==============================] - 3s 2ms/step - loss: 0.1088 - accuracy: 0.9675\n",
            "Epoch 5/5\n",
            "1875/1875 [==============================] - 3s 2ms/step - loss: 0.0972 - accuracy: 0.9710\n",
            "313/313 - 0s - loss: 0.0800 - accuracy: 0.9750\n",
            "Epoch 1/5\n",
            "1875/1875 [==============================] - 3s 2ms/step - loss: 0.2654 - accuracy: 0.9197\n",
            "Epoch 2/5\n",
            "1875/1875 [==============================] - 3s 2ms/step - loss: 0.1385 - accuracy: 0.9587\n",
            "Epoch 3/5\n",
            "1875/1875 [==============================] - 3s 2ms/step - loss: 0.1086 - accuracy: 0.9665\n",
            "Epoch 4/5\n",
            "1875/1875 [==============================] - 3s 2ms/step - loss: 0.0952 - accuracy: 0.9708\n",
            "Epoch 5/5\n",
            "1875/1875 [==============================] - 3s 2ms/step - loss: 0.0811 - accuracy: 0.9744\n",
            "313/313 - 0s - loss: 0.0798 - accuracy: 0.9762\n",
            "Epoch 1/5\n",
            "1875/1875 [==============================] - 4s 2ms/step - loss: 0.2820 - accuracy: 0.9130\n",
            "Epoch 2/5\n",
            "1875/1875 [==============================] - 4s 2ms/step - loss: 0.1551 - accuracy: 0.9531\n",
            "Epoch 3/5\n",
            "1875/1875 [==============================] - 3s 2ms/step - loss: 0.1296 - accuracy: 0.9596\n",
            "Epoch 4/5\n",
            "1875/1875 [==============================] - 4s 2ms/step - loss: 0.1159 - accuracy: 0.9643\n",
            "Epoch 5/5\n",
            "1875/1875 [==============================] - 4s 2ms/step - loss: 0.1014 - accuracy: 0.9680\n",
            "313/313 - 1s - loss: 0.1000 - accuracy: 0.9714\n",
            "Epoch 1/5\n",
            "1875/1875 [==============================] - 4s 2ms/step - loss: 0.4263 - accuracy: 0.8704\n",
            "Epoch 2/5\n",
            "1875/1875 [==============================] - 3s 2ms/step - loss: 0.2561 - accuracy: 0.9261\n",
            "Epoch 3/5\n",
            "1875/1875 [==============================] - 3s 2ms/step - loss: 0.2179 - accuracy: 0.9374\n",
            "Epoch 4/5\n",
            "1875/1875 [==============================] - 3s 2ms/step - loss: 0.2025 - accuracy: 0.9423\n",
            "Epoch 5/5\n",
            "1875/1875 [==============================] - 3s 2ms/step - loss: 0.1895 - accuracy: 0.9453\n",
            "313/313 - 0s - loss: 0.1476 - accuracy: 0.9598\n",
            "Epoch 1/5\n",
            "1875/1875 [==============================] - 3s 2ms/step - loss: 0.5892 - accuracy: 0.8238\n",
            "Epoch 2/5\n",
            "1875/1875 [==============================] - 3s 2ms/step - loss: 0.3708 - accuracy: 0.8953\n",
            "Epoch 3/5\n",
            "1875/1875 [==============================] - 3s 2ms/step - loss: 0.3272 - accuracy: 0.9096\n",
            "Epoch 4/5\n",
            "1875/1875 [==============================] - 3s 2ms/step - loss: 0.3072 - accuracy: 0.9168\n",
            "Epoch 5/5\n",
            "1875/1875 [==============================] - 3s 2ms/step - loss: 0.2939 - accuracy: 0.9203\n",
            "313/313 - 0s - loss: 0.2386 - accuracy: 0.9421\n",
            "Epoch 1/5\n",
            "1875/1875 [==============================] - 4s 2ms/step - loss: 0.6371 - accuracy: 0.8120\n",
            "Epoch 2/5\n",
            "1875/1875 [==============================] - 4s 2ms/step - loss: 0.4252 - accuracy: 0.8837\n",
            "Epoch 3/5\n",
            "1875/1875 [==============================] - 4s 2ms/step - loss: 0.3639 - accuracy: 0.9033\n",
            "Epoch 4/5\n",
            "1875/1875 [==============================] - 4s 2ms/step - loss: 0.3446 - accuracy: 0.9097\n",
            "Epoch 5/5\n",
            "1875/1875 [==============================] - 4s 2ms/step - loss: 0.3160 - accuracy: 0.9182\n",
            "313/313 - 1s - loss: 0.2327 - accuracy: 0.9466\n",
            "Epoch 1/5\n",
            "1875/1875 [==============================] - 4s 2ms/step - loss: 1.3223 - accuracy: 0.5612\n",
            "Epoch 2/5\n",
            "1875/1875 [==============================] - 4s 2ms/step - loss: 0.9674 - accuracy: 0.7074\n",
            "Epoch 3/5\n",
            "1875/1875 [==============================] - 4s 2ms/step - loss: 1.0189 - accuracy: 0.6728\n",
            "Epoch 4/5\n",
            "1875/1875 [==============================] - 3s 2ms/step - loss: 0.9817 - accuracy: 0.6856\n",
            "Epoch 5/5\n",
            "1875/1875 [==============================] - 3s 2ms/step - loss: 1.0913 - accuracy: 0.6318\n",
            "313/313 - 0s - loss: 0.7654 - accuracy: 0.7188\n",
            "Epoch 1/5\n",
            "1875/1875 [==============================] - 4s 2ms/step - loss: 1.8041 - accuracy: 0.3206\n",
            "Epoch 2/5\n",
            "1875/1875 [==============================] - 3s 2ms/step - loss: 1.6686 - accuracy: 0.3582\n",
            "Epoch 3/5\n",
            "1875/1875 [==============================] - 3s 2ms/step - loss: 1.6964 - accuracy: 0.3456\n",
            "Epoch 4/5\n",
            "1875/1875 [==============================] - 3s 2ms/step - loss: 1.7103 - accuracy: 0.3382\n",
            "Epoch 5/5\n",
            "1875/1875 [==============================] - 3s 2ms/step - loss: 1.6179 - accuracy: 0.3787\n",
            "313/313 - 0s - loss: 1.4324 - accuracy: 0.4413\n",
            "Epoch 1/5\n",
            "1875/1875 [==============================] - 4s 2ms/step - loss: 1.9295 - accuracy: 0.2689\n",
            "Epoch 2/5\n",
            "1875/1875 [==============================] - 3s 2ms/step - loss: 1.8870 - accuracy: 0.2716\n",
            "Epoch 3/5\n",
            "1875/1875 [==============================] - 4s 2ms/step - loss: 1.9046 - accuracy: 0.2617\n",
            "Epoch 4/5\n",
            "1875/1875 [==============================] - 4s 2ms/step - loss: 1.8894 - accuracy: 0.2635\n",
            "Epoch 5/5\n",
            "1875/1875 [==============================] - 4s 2ms/step - loss: 1.9524 - accuracy: 0.2356\n",
            "313/313 - 0s - loss: 1.8394 - accuracy: 0.2894\n",
            "Epoch 1/5\n",
            "1875/1875 [==============================] - 4s 2ms/step - loss: 0.2933 - accuracy: 0.9151\n",
            "Epoch 2/5\n",
            "1875/1875 [==============================] - 4s 2ms/step - loss: 0.1538 - accuracy: 0.9554\n",
            "Epoch 3/5\n",
            "1875/1875 [==============================] - 4s 2ms/step - loss: 0.1245 - accuracy: 0.9639\n",
            "Epoch 4/5\n",
            "1875/1875 [==============================] - 4s 2ms/step - loss: 0.1094 - accuracy: 0.9694\n",
            "Epoch 5/5\n",
            "1875/1875 [==============================] - 4s 2ms/step - loss: 0.1019 - accuracy: 0.9723\n",
            "313/313 - 0s - loss: 0.1005 - accuracy: 0.9728\n",
            "Epoch 1/5\n",
            "1875/1875 [==============================] - 4s 2ms/step - loss: 0.3620 - accuracy: 0.9102\n",
            "Epoch 2/5\n",
            "1875/1875 [==============================] - 4s 2ms/step - loss: 0.3118 - accuracy: 0.9394\n",
            "Epoch 3/5\n",
            "1875/1875 [==============================] - 4s 2ms/step - loss: 0.3074 - accuracy: 0.9467\n",
            "Epoch 4/5\n",
            "1875/1875 [==============================] - 4s 2ms/step - loss: 0.2990 - accuracy: 0.9510\n",
            "Epoch 5/5\n",
            "1875/1875 [==============================] - 4s 2ms/step - loss: 0.3089 - accuracy: 0.9519\n",
            "313/313 - 1s - loss: 0.2886 - accuracy: 0.9621\n",
            "Epoch 1/5\n",
            "1875/1875 [==============================] - 4s 2ms/step - loss: 1.0692 - accuracy: 0.8153\n",
            "Epoch 2/5\n",
            "1875/1875 [==============================] - 4s 2ms/step - loss: 1.0756 - accuracy: 0.8314\n",
            "Epoch 3/5\n",
            "1875/1875 [==============================] - 4s 2ms/step - loss: 1.0949 - accuracy: 0.8425\n",
            "Epoch 4/5\n",
            "1875/1875 [==============================] - 4s 2ms/step - loss: 1.1722 - accuracy: 0.8437\n",
            "Epoch 5/5\n",
            "1875/1875 [==============================] - 4s 2ms/step - loss: 1.1468 - accuracy: 0.8381\n",
            "313/313 - 0s - loss: 1.1516 - accuracy: 0.8646\n",
            "Epoch 1/5\n",
            "1875/1875 [==============================] - 4s 2ms/step - loss: 1.9911 - accuracy: 0.6391\n",
            "Epoch 2/5\n",
            "1875/1875 [==============================] - 4s 2ms/step - loss: 1.6745 - accuracy: 0.6453\n",
            "Epoch 3/5\n",
            "1875/1875 [==============================] - 4s 2ms/step - loss: 1.6784 - accuracy: 0.6588\n",
            "Epoch 4/5\n",
            "1875/1875 [==============================] - 4s 2ms/step - loss: 1.6150 - accuracy: 0.6637\n",
            "Epoch 5/5\n",
            "1875/1875 [==============================] - 4s 2ms/step - loss: 1.6748 - accuracy: 0.6557\n",
            "313/313 - 1s - loss: 1.4659 - accuracy: 0.7196\n",
            "Epoch 1/5\n",
            "1875/1875 [==============================] - 4s 2ms/step - loss: 4.2959 - accuracy: 0.3008\n",
            "Epoch 2/5\n",
            "1875/1875 [==============================] - 4s 2ms/step - loss: 2.3508 - accuracy: 0.3539\n",
            "Epoch 3/5\n",
            "1875/1875 [==============================] - 4s 2ms/step - loss: 2.4492 - accuracy: 0.3504\n",
            "Epoch 4/5\n",
            "1875/1875 [==============================] - 4s 2ms/step - loss: 2.3438 - accuracy: 0.3713\n",
            "Epoch 5/5\n",
            "1875/1875 [==============================] - 4s 2ms/step - loss: 2.2568 - accuracy: 0.3939\n",
            "313/313 - 1s - loss: 2.4215 - accuracy: 0.4532\n",
            "Epoch 1/5\n",
            "1875/1875 [==============================] - 4s 2ms/step - loss: 9.3212 - accuracy: 0.1654\n",
            "Epoch 2/5\n",
            "1875/1875 [==============================] - 4s 2ms/step - loss: 2.4836 - accuracy: 0.1862\n",
            "Epoch 3/5\n",
            "1875/1875 [==============================] - 4s 2ms/step - loss: 2.4390 - accuracy: 0.1926\n",
            "Epoch 4/5\n",
            "1875/1875 [==============================] - 4s 2ms/step - loss: 2.5688 - accuracy: 0.2236\n",
            "Epoch 5/5\n",
            "1875/1875 [==============================] - 4s 2ms/step - loss: 2.2983 - accuracy: 0.2188\n",
            "313/313 - 0s - loss: 2.3139 - accuracy: 0.1794\n",
            "Epoch 1/5\n",
            "1875/1875 [==============================] - 4s 2ms/step - loss: 20.3119 - accuracy: 0.1495\n",
            "Epoch 2/5\n",
            "1875/1875 [==============================] - 4s 2ms/step - loss: 2.5837 - accuracy: 0.1336\n",
            "Epoch 3/5\n",
            "1875/1875 [==============================] - 4s 2ms/step - loss: 2.4730 - accuracy: 0.1359\n",
            "Epoch 4/5\n",
            "1875/1875 [==============================] - 4s 2ms/step - loss: 2.4862 - accuracy: 0.1421\n",
            "Epoch 5/5\n",
            "1875/1875 [==============================] - 4s 2ms/step - loss: 2.4487 - accuracy: 0.1469\n",
            "313/313 - 0s - loss: 2.4053 - accuracy: 0.1387\n",
            "Epoch 1/5\n",
            "1875/1875 [==============================] - 4s 2ms/step - loss: 32.1766 - accuracy: 0.1785\n",
            "Epoch 2/5\n",
            "1875/1875 [==============================] - 4s 2ms/step - loss: 2.9020 - accuracy: 0.1810\n",
            "Epoch 3/5\n",
            "1875/1875 [==============================] - 4s 2ms/step - loss: 2.9631 - accuracy: 0.1777\n",
            "Epoch 4/5\n",
            "1875/1875 [==============================] - 4s 2ms/step - loss: 2.5736 - accuracy: 0.1852\n",
            "Epoch 5/5\n",
            "1875/1875 [==============================] - 4s 2ms/step - loss: 2.6413 - accuracy: 0.1985\n",
            "313/313 - 1s - loss: 2.2949 - accuracy: 0.1948\n",
            "Epoch 1/5\n",
            "1875/1875 [==============================] - 5s 2ms/step - loss: 34.6765 - accuracy: 0.1543\n",
            "Epoch 2/5\n",
            "1875/1875 [==============================] - 4s 2ms/step - loss: 3.1736 - accuracy: 0.1565\n",
            "Epoch 3/5\n",
            "1875/1875 [==============================] - 4s 2ms/step - loss: 2.6779 - accuracy: 0.1757\n",
            "Epoch 4/5\n",
            "1875/1875 [==============================] - 4s 2ms/step - loss: 2.8805 - accuracy: 0.2042\n",
            "Epoch 5/5\n",
            "1875/1875 [==============================] - 4s 2ms/step - loss: 2.6950 - accuracy: 0.2037\n",
            "313/313 - 0s - loss: 16.9133 - accuracy: 0.2392\n",
            "Epoch 1/5\n",
            "1875/1875 [==============================] - 4s 2ms/step - loss: 53.4181 - accuracy: 0.1712\n",
            "Epoch 2/5\n",
            "1875/1875 [==============================] - 4s 2ms/step - loss: 2.6841 - accuracy: 0.1697\n",
            "Epoch 3/5\n",
            "1875/1875 [==============================] - 4s 2ms/step - loss: 3.1147 - accuracy: 0.1935\n",
            "Epoch 4/5\n",
            "1875/1875 [==============================] - 4s 2ms/step - loss: 2.8283 - accuracy: 0.1937\n",
            "Epoch 5/5\n",
            "1875/1875 [==============================] - 4s 2ms/step - loss: 2.8694 - accuracy: 0.2004\n",
            "313/313 - 0s - loss: 2.5564 - accuracy: 0.2517\n",
            "Epoch 1/5\n",
            "1875/1875 [==============================] - 4s 2ms/step - loss: 60.7132 - accuracy: 0.1358\n",
            "Epoch 2/5\n",
            "1875/1875 [==============================] - 4s 2ms/step - loss: 2.9267 - accuracy: 0.1199\n",
            "Epoch 3/5\n",
            "1875/1875 [==============================] - 4s 2ms/step - loss: 2.9430 - accuracy: 0.1382\n",
            "Epoch 4/5\n",
            "1875/1875 [==============================] - 4s 2ms/step - loss: 2.9667 - accuracy: 0.1624\n",
            "Epoch 5/5\n",
            "1875/1875 [==============================] - 4s 2ms/step - loss: 2.8010 - accuracy: 0.1364\n",
            "313/313 - 0s - loss: 2.3897 - accuracy: 0.1347\n",
            "Epoch 1/5\n",
            "1875/1875 [==============================] - 4s 2ms/step - loss: 78.1528 - accuracy: 0.1231\n",
            "Epoch 2/5\n",
            "1875/1875 [==============================] - 4s 2ms/step - loss: 3.3898 - accuracy: 0.1136\n",
            "Epoch 3/5\n",
            "1875/1875 [==============================] - 4s 2ms/step - loss: 2.7379 - accuracy: 0.1046\n",
            "Epoch 4/5\n",
            "1875/1875 [==============================] - 4s 2ms/step - loss: 2.7382 - accuracy: 0.1032\n",
            "Epoch 5/5\n",
            "1875/1875 [==============================] - 4s 2ms/step - loss: 2.8151 - accuracy: 0.1059\n",
            "313/313 - 0s - loss: 2.7924 - accuracy: 0.0959\n",
            "Epoch 1/5\n",
            "1875/1875 [==============================] - 4s 2ms/step - loss: 1.2821 - accuracy: 0.6645\n",
            "Epoch 2/5\n",
            "1875/1875 [==============================] - 4s 2ms/step - loss: 0.6974 - accuracy: 0.8238\n",
            "Epoch 3/5\n",
            "1875/1875 [==============================] - 3s 2ms/step - loss: 0.5682 - accuracy: 0.8489\n",
            "Epoch 4/5\n",
            "1875/1875 [==============================] - 3s 2ms/step - loss: 0.5112 - accuracy: 0.8621\n",
            "Epoch 5/5\n",
            "1875/1875 [==============================] - 3s 2ms/step - loss: 0.4730 - accuracy: 0.8705\n",
            "313/313 - 0s - loss: 0.3892 - accuracy: 0.9011\n",
            "Epoch 1/5\n",
            "1875/1875 [==============================] - 4s 2ms/step - loss: 0.5018 - accuracy: 0.8597\n",
            "Epoch 2/5\n",
            "1875/1875 [==============================] - 3s 2ms/step - loss: 0.2931 - accuracy: 0.9171\n",
            "Epoch 3/5\n",
            "1875/1875 [==============================] - 4s 2ms/step - loss: 0.2474 - accuracy: 0.9293\n",
            "Epoch 4/5\n",
            "1875/1875 [==============================] - 4s 2ms/step - loss: 0.2190 - accuracy: 0.9376\n",
            "Epoch 5/5\n",
            "1875/1875 [==============================] - 4s 2ms/step - loss: 0.1989 - accuracy: 0.9434\n",
            "313/313 - 1s - loss: 0.1608 - accuracy: 0.9541\n",
            "Epoch 1/5\n",
            "1875/1875 [==============================] - 4s 2ms/step - loss: 0.2964 - accuracy: 0.9134\n",
            "Epoch 2/5\n",
            "1875/1875 [==============================] - 4s 2ms/step - loss: 0.1536 - accuracy: 0.9553\n",
            "Epoch 3/5\n",
            "1875/1875 [==============================] - 4s 2ms/step - loss: 0.1207 - accuracy: 0.9650\n",
            "Epoch 4/5\n",
            "1875/1875 [==============================] - 4s 2ms/step - loss: 0.1018 - accuracy: 0.9697\n",
            "Epoch 5/5\n",
            "1875/1875 [==============================] - 3s 2ms/step - loss: 0.0895 - accuracy: 0.9734\n",
            "313/313 - 0s - loss: 0.0782 - accuracy: 0.9756\n",
            "Epoch 1/5\n",
            "1875/1875 [==============================] - 4s 2ms/step - loss: 0.2573 - accuracy: 0.9217\n",
            "Epoch 2/5\n",
            "1875/1875 [==============================] - 3s 2ms/step - loss: 0.1296 - accuracy: 0.9618\n",
            "Epoch 3/5\n",
            "1875/1875 [==============================] - 3s 2ms/step - loss: 0.1010 - accuracy: 0.9692\n",
            "Epoch 4/5\n",
            "1875/1875 [==============================] - 4s 2ms/step - loss: 0.0855 - accuracy: 0.9738\n",
            "Epoch 5/5\n",
            "1875/1875 [==============================] - 3s 2ms/step - loss: 0.0744 - accuracy: 0.9769\n",
            "313/313 - 0s - loss: 0.0715 - accuracy: 0.9779\n",
            "Epoch 1/5\n",
            "1875/1875 [==============================] - 4s 2ms/step - loss: 0.3131 - accuracy: 0.9047\n",
            "Epoch 2/5\n",
            "1875/1875 [==============================] - 3s 2ms/step - loss: 0.1682 - accuracy: 0.9490\n",
            "Epoch 3/5\n",
            "1875/1875 [==============================] - 3s 2ms/step - loss: 0.1309 - accuracy: 0.9591\n",
            "Epoch 4/5\n",
            "1875/1875 [==============================] - 4s 2ms/step - loss: 0.1093 - accuracy: 0.9661\n",
            "Epoch 5/5\n",
            "1875/1875 [==============================] - 4s 2ms/step - loss: 0.0976 - accuracy: 0.9689\n",
            "313/313 - 1s - loss: 0.0909 - accuracy: 0.9739\n",
            "Epoch 1/5\n",
            "1875/1875 [==============================] - 4s 2ms/step - loss: 0.6836 - accuracy: 0.7758\n",
            "Epoch 2/5\n",
            "1875/1875 [==============================] - 4s 2ms/step - loss: 0.3475 - accuracy: 0.8952\n",
            "Epoch 3/5\n",
            "1875/1875 [==============================] - 4s 2ms/step - loss: 0.2807 - accuracy: 0.9159\n",
            "Epoch 4/5\n",
            "1875/1875 [==============================] - 4s 2ms/step - loss: 0.2431 - accuracy: 0.9256\n",
            "Epoch 5/5\n",
            "1875/1875 [==============================] - 4s 2ms/step - loss: 0.2190 - accuracy: 0.9338\n",
            "313/313 - 0s - loss: 0.1393 - accuracy: 0.9579\n",
            "Epoch 1/5\n",
            "1875/1875 [==============================] - 4s 2ms/step - loss: 1.7635 - accuracy: 0.3311\n",
            "Epoch 2/5\n",
            "1875/1875 [==============================] - 4s 2ms/step - loss: 1.1771 - accuracy: 0.5908\n",
            "Epoch 3/5\n",
            "1875/1875 [==============================] - 4s 2ms/step - loss: 1.0233 - accuracy: 0.6568\n",
            "Epoch 4/5\n",
            "1875/1875 [==============================] - 4s 2ms/step - loss: 0.9899 - accuracy: 0.6704\n",
            "Epoch 5/5\n",
            "1875/1875 [==============================] - 4s 2ms/step - loss: 0.9867 - accuracy: 0.6712\n",
            "313/313 - 0s - loss: 0.6214 - accuracy: 0.8307\n",
            "Epoch 1/5\n",
            "1875/1875 [==============================] - 4s 2ms/step - loss: 1.5264 - accuracy: 0.4405\n",
            "Epoch 2/5\n",
            "1875/1875 [==============================] - 4s 2ms/step - loss: 1.0097 - accuracy: 0.6517\n",
            "Epoch 3/5\n",
            "1875/1875 [==============================] - 4s 2ms/step - loss: 0.8215 - accuracy: 0.7355\n",
            "Epoch 4/5\n",
            "1875/1875 [==============================] - 4s 2ms/step - loss: 0.7824 - accuracy: 0.7503\n",
            "Epoch 5/5\n",
            "1875/1875 [==============================] - 3s 2ms/step - loss: 0.7452 - accuracy: 0.7613\n",
            "313/313 - 0s - loss: 0.4404 - accuracy: 0.8773\n",
            "Epoch 1/5\n",
            "1875/1875 [==============================] - 4s 2ms/step - loss: 2.3320 - accuracy: 0.1145\n",
            "Epoch 2/5\n",
            "1875/1875 [==============================] - 4s 2ms/step - loss: 2.3038 - accuracy: 0.1046\n",
            "Epoch 3/5\n",
            "1875/1875 [==============================] - 4s 2ms/step - loss: 2.3031 - accuracy: 0.1078\n",
            "Epoch 4/5\n",
            "1875/1875 [==============================] - 4s 2ms/step - loss: 2.3029 - accuracy: 0.1082\n",
            "Epoch 5/5\n",
            "1875/1875 [==============================] - 4s 2ms/step - loss: 2.3025 - accuracy: 0.1103\n",
            "313/313 - 0s - loss: 2.3026 - accuracy: 0.1010\n",
            "Epoch 1/5\n",
            "1875/1875 [==============================] - 4s 2ms/step - loss: 2.1822 - accuracy: 0.1856\n",
            "Epoch 2/5\n",
            "1875/1875 [==============================] - 3s 2ms/step - loss: 2.0787 - accuracy: 0.1881\n",
            "Epoch 3/5\n",
            "1875/1875 [==============================] - 4s 2ms/step - loss: 2.0709 - accuracy: 0.1925\n",
            "Epoch 4/5\n",
            "1875/1875 [==============================] - 4s 2ms/step - loss: 2.0571 - accuracy: 0.2025\n",
            "Epoch 5/5\n",
            "1875/1875 [==============================] - 4s 2ms/step - loss: 2.0402 - accuracy: 0.2072\n",
            "313/313 - 1s - loss: 1.9079 - accuracy: 0.2365\n",
            "Epoch 1/5\n",
            "1875/1875 [==============================] - 4s 2ms/step - loss: 2.3646 - accuracy: 0.1081\n",
            "Epoch 2/5\n",
            "1875/1875 [==============================] - 4s 2ms/step - loss: 2.3049 - accuracy: 0.1047\n",
            "Epoch 3/5\n",
            "1875/1875 [==============================] - 4s 2ms/step - loss: 2.3006 - accuracy: 0.1090\n",
            "Epoch 4/5\n",
            "1875/1875 [==============================] - 4s 2ms/step - loss: 2.1820 - accuracy: 0.1581\n",
            "Epoch 5/5\n",
            "1875/1875 [==============================] - 4s 2ms/step - loss: 2.1060 - accuracy: 0.1836\n",
            "313/313 - 0s - loss: 2.0273 - accuracy: 0.2091\n",
            "Epoch 1/5\n",
            "1875/1875 [==============================] - 4s 2ms/step - loss: 2.5886 - accuracy: 0.1052\n",
            "Epoch 2/5\n",
            "1875/1875 [==============================] - 3s 2ms/step - loss: 2.3051 - accuracy: 0.1037\n",
            "Epoch 3/5\n",
            "1875/1875 [==============================] - 3s 2ms/step - loss: 2.3041 - accuracy: 0.1045\n",
            "Epoch 4/5\n",
            "1875/1875 [==============================] - 3s 2ms/step - loss: 2.3052 - accuracy: 0.1072\n",
            "Epoch 5/5\n",
            "1875/1875 [==============================] - 3s 2ms/step - loss: 2.3035 - accuracy: 0.1069\n",
            "313/313 - 0s - loss: 2.3030 - accuracy: 0.1135\n",
            "Epoch 1/5\n",
            "1875/1875 [==============================] - 4s 2ms/step - loss: 2.2576 - accuracy: 0.1292\n",
            "Epoch 2/5\n",
            "1875/1875 [==============================] - 4s 2ms/step - loss: 2.1011 - accuracy: 0.2605\n",
            "Epoch 3/5\n",
            "1875/1875 [==============================] - 4s 2ms/step - loss: 1.9639 - accuracy: 0.3985\n",
            "Epoch 4/5\n",
            "1875/1875 [==============================] - 4s 2ms/step - loss: 1.8369 - accuracy: 0.4974\n",
            "Epoch 5/5\n",
            "1875/1875 [==============================] - 4s 2ms/step - loss: 1.7176 - accuracy: 0.5633\n",
            "313/313 - 0s - loss: 1.6191 - accuracy: 0.6703\n",
            "Epoch 1/5\n",
            "1875/1875 [==============================] - 4s 2ms/step - loss: 1.7919 - accuracy: 0.4693\n",
            "Epoch 2/5\n",
            "1875/1875 [==============================] - 4s 2ms/step - loss: 1.0182 - accuracy: 0.7626\n",
            "Epoch 3/5\n",
            "1875/1875 [==============================] - 4s 2ms/step - loss: 0.7295 - accuracy: 0.8141\n",
            "Epoch 4/5\n",
            "1875/1875 [==============================] - 4s 2ms/step - loss: 0.6049 - accuracy: 0.8382\n",
            "Epoch 5/5\n",
            "1875/1875 [==============================] - 4s 2ms/step - loss: 0.5389 - accuracy: 0.8533\n",
            "313/313 - 0s - loss: 0.4402 - accuracy: 0.8873\n",
            "Epoch 1/5\n",
            "1875/1875 [==============================] - 4s 2ms/step - loss: 0.8589 - accuracy: 0.7713\n",
            "Epoch 2/5\n",
            "1875/1875 [==============================] - 4s 2ms/step - loss: 0.4389 - accuracy: 0.8767\n",
            "Epoch 3/5\n",
            "1875/1875 [==============================] - 4s 2ms/step - loss: 0.3724 - accuracy: 0.8940\n",
            "Epoch 4/5\n",
            "1875/1875 [==============================] - 4s 2ms/step - loss: 0.3342 - accuracy: 0.9048\n",
            "Epoch 5/5\n",
            "1875/1875 [==============================] - 4s 2ms/step - loss: 0.3087 - accuracy: 0.9120\n",
            "313/313 - 1s - loss: 0.2573 - accuracy: 0.9277\n",
            "Epoch 1/5\n",
            "1875/1875 [==============================] - 4s 2ms/step - loss: 0.6604 - accuracy: 0.8202\n",
            "Epoch 2/5\n",
            "1875/1875 [==============================] - 4s 2ms/step - loss: 0.3571 - accuracy: 0.8987\n",
            "Epoch 3/5\n",
            "1875/1875 [==============================] - 4s 2ms/step - loss: 0.3034 - accuracy: 0.9129\n",
            "Epoch 4/5\n",
            "1875/1875 [==============================] - 4s 2ms/step - loss: 0.2702 - accuracy: 0.9222\n",
            "Epoch 5/5\n",
            "1875/1875 [==============================] - 4s 2ms/step - loss: 0.2473 - accuracy: 0.9297\n",
            "313/313 - 0s - loss: 0.2065 - accuracy: 0.9407\n",
            "Epoch 1/5\n",
            "1875/1875 [==============================] - 4s 2ms/step - loss: 0.4668 - accuracy: 0.8715\n",
            "Epoch 2/5\n",
            "1875/1875 [==============================] - 4s 2ms/step - loss: 0.2594 - accuracy: 0.9254\n",
            "Epoch 3/5\n",
            "1875/1875 [==============================] - 4s 2ms/step - loss: 0.2112 - accuracy: 0.9402\n",
            "Epoch 4/5\n",
            "1875/1875 [==============================] - 4s 2ms/step - loss: 0.1836 - accuracy: 0.9472\n",
            "Epoch 5/5\n",
            "1875/1875 [==============================] - 4s 2ms/step - loss: 0.1653 - accuracy: 0.9526\n",
            "313/313 - 0s - loss: 0.1371 - accuracy: 0.9590\n",
            "Epoch 1/5\n",
            "1875/1875 [==============================] - 4s 2ms/step - loss: 0.3819 - accuracy: 0.8905\n",
            "Epoch 2/5\n",
            "1875/1875 [==============================] - 4s 2ms/step - loss: 0.2060 - accuracy: 0.9404\n",
            "Epoch 3/5\n",
            "1875/1875 [==============================] - 4s 2ms/step - loss: 0.1656 - accuracy: 0.9516\n",
            "Epoch 4/5\n",
            "1875/1875 [==============================] - 4s 2ms/step - loss: 0.1423 - accuracy: 0.9592\n",
            "Epoch 5/5\n",
            "1875/1875 [==============================] - 4s 2ms/step - loss: 0.1241 - accuracy: 0.9640\n",
            "313/313 - 0s - loss: 0.1001 - accuracy: 0.9704\n",
            "Epoch 1/5\n",
            "1875/1875 [==============================] - 4s 2ms/step - loss: 0.3353 - accuracy: 0.9028\n",
            "Epoch 2/5\n",
            "1875/1875 [==============================] - 4s 2ms/step - loss: 0.1794 - accuracy: 0.9483\n",
            "Epoch 3/5\n",
            "1875/1875 [==============================] - 4s 2ms/step - loss: 0.1423 - accuracy: 0.9580\n",
            "Epoch 4/5\n",
            "1875/1875 [==============================] - 4s 2ms/step - loss: 0.1212 - accuracy: 0.9647\n",
            "Epoch 5/5\n",
            "1875/1875 [==============================] - 3s 2ms/step - loss: 0.1063 - accuracy: 0.9688\n",
            "313/313 - 0s - loss: 0.0921 - accuracy: 0.9722\n",
            "Epoch 1/5\n",
            "1875/1875 [==============================] - 4s 2ms/step - loss: 0.3181 - accuracy: 0.9094\n",
            "Epoch 2/5\n",
            "1875/1875 [==============================] - 4s 2ms/step - loss: 0.1673 - accuracy: 0.9517\n",
            "Epoch 3/5\n",
            "1875/1875 [==============================] - 4s 2ms/step - loss: 0.1309 - accuracy: 0.9618\n",
            "Epoch 4/5\n",
            "1875/1875 [==============================] - 4s 2ms/step - loss: 0.1113 - accuracy: 0.9676\n",
            "Epoch 5/5\n",
            "1875/1875 [==============================] - 4s 2ms/step - loss: 0.0981 - accuracy: 0.9706\n",
            "313/313 - 1s - loss: 0.0860 - accuracy: 0.9725\n",
            "Epoch 1/5\n",
            "1875/1875 [==============================] - 4s 2ms/step - loss: 0.3032 - accuracy: 0.9115\n",
            "Epoch 2/5\n",
            "1875/1875 [==============================] - 4s 2ms/step - loss: 0.1592 - accuracy: 0.9536\n",
            "Epoch 3/5\n",
            "1875/1875 [==============================] - 4s 2ms/step - loss: 0.1267 - accuracy: 0.9635\n",
            "Epoch 4/5\n",
            "1875/1875 [==============================] - 4s 2ms/step - loss: 0.1091 - accuracy: 0.9686\n",
            "Epoch 5/5\n",
            "1875/1875 [==============================] - 4s 2ms/step - loss: 0.0951 - accuracy: 0.9717\n",
            "313/313 - 1s - loss: 0.0835 - accuracy: 0.9749\n",
            "Epoch 1/5\n",
            "1875/1875 [==============================] - 4s 2ms/step - loss: 0.2948 - accuracy: 0.9136\n",
            "Epoch 2/5\n",
            "1875/1875 [==============================] - 4s 2ms/step - loss: 0.1538 - accuracy: 0.9545\n",
            "Epoch 3/5\n",
            "1875/1875 [==============================] - 4s 2ms/step - loss: 0.1215 - accuracy: 0.9632\n",
            "Epoch 4/5\n",
            "1875/1875 [==============================] - 4s 2ms/step - loss: 0.1031 - accuracy: 0.9696\n",
            "Epoch 5/5\n",
            "1875/1875 [==============================] - 4s 2ms/step - loss: 0.0910 - accuracy: 0.9719\n",
            "313/313 - 0s - loss: 0.0867 - accuracy: 0.9750\n",
            "Epoch 1/5\n",
            "1875/1875 [==============================] - 4s 2ms/step - loss: 0.2861 - accuracy: 0.9158\n",
            "Epoch 2/5\n",
            "1875/1875 [==============================] - 4s 2ms/step - loss: 0.1482 - accuracy: 0.9563\n",
            "Epoch 3/5\n",
            "1875/1875 [==============================] - 4s 2ms/step - loss: 0.1185 - accuracy: 0.9651\n",
            "Epoch 4/5\n",
            "1875/1875 [==============================] - 4s 2ms/step - loss: 0.1008 - accuracy: 0.9699\n",
            "Epoch 5/5\n",
            "1875/1875 [==============================] - 4s 2ms/step - loss: 0.0878 - accuracy: 0.9736\n",
            "313/313 - 0s - loss: 0.0759 - accuracy: 0.9779\n",
            "Epoch 1/5\n",
            "1875/1875 [==============================] - 4s 2ms/step - loss: 0.2768 - accuracy: 0.9183\n",
            "Epoch 2/5\n",
            "1875/1875 [==============================] - 4s 2ms/step - loss: 0.1433 - accuracy: 0.9575\n",
            "Epoch 3/5\n",
            "1875/1875 [==============================] - 4s 2ms/step - loss: 0.1114 - accuracy: 0.9665\n",
            "Epoch 4/5\n",
            "1875/1875 [==============================] - 4s 2ms/step - loss: 0.0933 - accuracy: 0.9722\n",
            "Epoch 5/5\n",
            "1875/1875 [==============================] - 4s 2ms/step - loss: 0.0852 - accuracy: 0.9747\n",
            "313/313 - 0s - loss: 0.0816 - accuracy: 0.9772\n",
            "Epoch 1/5\n",
            "1875/1875 [==============================] - 4s 2ms/step - loss: 0.2977 - accuracy: 0.9131\n",
            "Epoch 2/5\n",
            "1875/1875 [==============================] - 4s 2ms/step - loss: 0.1434 - accuracy: 0.9572\n",
            "Epoch 3/5\n",
            "1875/1875 [==============================] - 4s 2ms/step - loss: 0.1084 - accuracy: 0.9672\n",
            "Epoch 4/5\n",
            "1875/1875 [==============================] - 4s 2ms/step - loss: 0.0880 - accuracy: 0.9737\n",
            "Epoch 5/5\n",
            "1875/1875 [==============================] - 4s 2ms/step - loss: 0.0750 - accuracy: 0.9763\n",
            "313/313 - 0s - loss: 0.0792 - accuracy: 0.9756\n",
            "Epoch 1/5\n",
            "1875/1875 [==============================] - 4s 2ms/step - loss: 0.3118 - accuracy: 0.9067\n",
            "Epoch 2/5\n",
            "1875/1875 [==============================] - 4s 2ms/step - loss: 0.2475 - accuracy: 0.9305\n",
            "Epoch 3/5\n",
            "1875/1875 [==============================] - 4s 2ms/step - loss: 0.2283 - accuracy: 0.9376\n",
            "Epoch 4/5\n",
            "1875/1875 [==============================] - 4s 2ms/step - loss: 0.2102 - accuracy: 0.9454\n",
            "Epoch 5/5\n",
            "1875/1875 [==============================] - 4s 2ms/step - loss: 0.2079 - accuracy: 0.9449\n",
            "313/313 - 0s - loss: 0.2229 - accuracy: 0.9518\n",
            "Epoch 1/5\n",
            "1875/1875 [==============================] - 4s 2ms/step - loss: 0.8700 - accuracy: 0.7631\n",
            "Epoch 2/5\n",
            "1875/1875 [==============================] - 4s 2ms/step - loss: 0.9028 - accuracy: 0.7444\n",
            "Epoch 3/5\n",
            "1875/1875 [==============================] - 4s 2ms/step - loss: 0.9441 - accuracy: 0.7315\n",
            "Epoch 4/5\n",
            "1875/1875 [==============================] - 4s 2ms/step - loss: 0.9085 - accuracy: 0.7392\n",
            "Epoch 5/5\n",
            "1875/1875 [==============================] - 4s 2ms/step - loss: 0.9143 - accuracy: 0.7398\n",
            "313/313 - 0s - loss: 0.8736 - accuracy: 0.8200\n",
            "Epoch 1/5\n",
            "1875/1875 [==============================] - 4s 2ms/step - loss: 1.6615 - accuracy: 0.4583\n",
            "Epoch 2/5\n",
            "1875/1875 [==============================] - 4s 2ms/step - loss: 1.8403 - accuracy: 0.3439\n",
            "Epoch 3/5\n",
            "1875/1875 [==============================] - 4s 2ms/step - loss: 1.7879 - accuracy: 0.3841\n",
            "Epoch 4/5\n",
            "1875/1875 [==============================] - 4s 2ms/step - loss: 1.7371 - accuracy: 0.3831\n",
            "Epoch 5/5\n",
            "1875/1875 [==============================] - 4s 2ms/step - loss: 1.7244 - accuracy: 0.3907\n",
            "313/313 - 1s - loss: 1.8266 - accuracy: 0.4359\n",
            "Epoch 1/5\n",
            "1875/1875 [==============================] - 4s 2ms/step - loss: 2.4424 - accuracy: 0.1687\n",
            "Epoch 2/5\n",
            "1875/1875 [==============================] - 4s 2ms/step - loss: 2.3134 - accuracy: 0.1204\n",
            "Epoch 3/5\n",
            "1875/1875 [==============================] - 4s 2ms/step - loss: 2.2768 - accuracy: 0.1270\n",
            "Epoch 4/5\n",
            "1875/1875 [==============================] - 4s 2ms/step - loss: 2.3300 - accuracy: 0.1267\n",
            "Epoch 5/5\n",
            "1875/1875 [==============================] - 4s 2ms/step - loss: 2.2924 - accuracy: 0.1255\n",
            "313/313 - 0s - loss: 2.2707 - accuracy: 0.1135\n",
            "Epoch 1/5\n",
            "1875/1875 [==============================] - 4s 2ms/step - loss: 3.0417 - accuracy: 0.1085\n",
            "Epoch 2/5\n",
            "1875/1875 [==============================] - 4s 2ms/step - loss: 2.3577 - accuracy: 0.1033\n",
            "Epoch 3/5\n",
            "1875/1875 [==============================] - 4s 2ms/step - loss: 2.3567 - accuracy: 0.1010\n",
            "Epoch 4/5\n",
            "1875/1875 [==============================] - 4s 2ms/step - loss: 2.3600 - accuracy: 0.1015\n",
            "Epoch 5/5\n",
            "1875/1875 [==============================] - 4s 2ms/step - loss: 2.3576 - accuracy: 0.1018\n",
            "313/313 - 1s - loss: 2.3716 - accuracy: 0.0974\n",
            "Epoch 1/5\n",
            "1875/1875 [==============================] - 4s 2ms/step - loss: 3.9827 - accuracy: 0.1062\n",
            "Epoch 2/5\n",
            "1875/1875 [==============================] - 4s 2ms/step - loss: 2.4665 - accuracy: 0.1013\n",
            "Epoch 3/5\n",
            "1875/1875 [==============================] - 4s 2ms/step - loss: 2.3894 - accuracy: 0.1011\n",
            "Epoch 4/5\n",
            "1875/1875 [==============================] - 4s 2ms/step - loss: 2.3831 - accuracy: 0.1019\n",
            "Epoch 5/5\n",
            "1875/1875 [==============================] - 4s 2ms/step - loss: 2.3850 - accuracy: 0.1031\n",
            "313/313 - 0s - loss: 2.4002 - accuracy: 0.0958\n",
            "Epoch 1/5\n",
            "1875/1875 [==============================] - 4s 2ms/step - loss: 6.1661 - accuracy: 0.1106\n",
            "Epoch 2/5\n",
            "1875/1875 [==============================] - 4s 2ms/step - loss: 2.4208 - accuracy: 0.1005\n",
            "Epoch 3/5\n",
            "1875/1875 [==============================] - 4s 2ms/step - loss: 2.3991 - accuracy: 0.1001\n",
            "Epoch 4/5\n",
            "1875/1875 [==============================] - 4s 2ms/step - loss: 2.4041 - accuracy: 0.1005\n",
            "Epoch 5/5\n",
            "1875/1875 [==============================] - 4s 2ms/step - loss: 2.4009 - accuracy: 0.0999\n",
            "313/313 - 0s - loss: 2.4029 - accuracy: 0.0958\n",
            "Epoch 1/5\n",
            "1875/1875 [==============================] - 4s 2ms/step - loss: 5.5121 - accuracy: 0.1197\n",
            "Epoch 2/5\n",
            "1875/1875 [==============================] - 4s 2ms/step - loss: 2.4271 - accuracy: 0.1026\n",
            "Epoch 3/5\n",
            "1875/1875 [==============================] - 4s 2ms/step - loss: 2.4087 - accuracy: 0.1021\n",
            "Epoch 4/5\n",
            "1875/1875 [==============================] - 4s 2ms/step - loss: 2.4073 - accuracy: 0.0997\n",
            "Epoch 5/5\n",
            "1875/1875 [==============================] - 4s 2ms/step - loss: 2.4070 - accuracy: 0.1024\n",
            "313/313 - 0s - loss: 2.4076 - accuracy: 0.1138\n",
            "Epoch 1/5\n",
            "1875/1875 [==============================] - 4s 2ms/step - loss: 6.7570 - accuracy: 0.1117\n",
            "Epoch 2/5\n",
            "1875/1875 [==============================] - 4s 2ms/step - loss: 2.4642 - accuracy: 0.1019\n",
            "Epoch 3/5\n",
            "1875/1875 [==============================] - 4s 2ms/step - loss: 2.4283 - accuracy: 0.1023\n",
            "Epoch 4/5\n",
            "1875/1875 [==============================] - 4s 2ms/step - loss: 2.4233 - accuracy: 0.1017\n",
            "Epoch 5/5\n",
            "1875/1875 [==============================] - 4s 2ms/step - loss: 2.4282 - accuracy: 0.1007\n",
            "313/313 - 0s - loss: 2.4372 - accuracy: 0.0974\n",
            "Epoch 1/5\n",
            "1875/1875 [==============================] - 4s 2ms/step - loss: 10.6786 - accuracy: 0.1096\n",
            "Epoch 2/5\n",
            "1875/1875 [==============================] - 4s 2ms/step - loss: 2.4764 - accuracy: 0.1014\n",
            "Epoch 3/5\n",
            "1875/1875 [==============================] - 4s 2ms/step - loss: 2.4411 - accuracy: 0.1000\n",
            "Epoch 4/5\n",
            "1875/1875 [==============================] - 4s 2ms/step - loss: 2.4462 - accuracy: 0.0988\n",
            "Epoch 5/5\n",
            "1875/1875 [==============================] - 4s 2ms/step - loss: 2.4472 - accuracy: 0.1032\n",
            "313/313 - 0s - loss: 2.4240 - accuracy: 0.1028\n",
            "Epoch 1/5\n",
            "1875/1875 [==============================] - 4s 2ms/step - loss: 13.1133 - accuracy: 0.1196\n",
            "Epoch 2/5\n",
            "1875/1875 [==============================] - 4s 2ms/step - loss: 2.4741 - accuracy: 0.1013\n",
            "Epoch 3/5\n",
            "1875/1875 [==============================] - 4s 2ms/step - loss: 2.4562 - accuracy: 0.1020\n",
            "Epoch 4/5\n",
            "1875/1875 [==============================] - 4s 2ms/step - loss: 2.4519 - accuracy: 0.1015\n",
            "Epoch 5/5\n",
            "1875/1875 [==============================] - 4s 2ms/step - loss: 2.4564 - accuracy: 0.1004\n",
            "313/313 - 0s - loss: 2.4221 - accuracy: 0.1011\n"
          ],
          "name": "stdout"
        }
      ]
    },
    {
      "cell_type": "markdown",
      "metadata": {
        "id": "5dpr1ftjiw6w"
      },
      "source": [
        "A continuación se puede observar las gráfica que representa la información obtenida después de reproducir los 60 escenarios posibles entre los learning_rates y optimizadores seleccionados sobre los datos de entrenamiento"
      ]
    },
    {
      "cell_type": "code",
      "metadata": {
        "colab": {
          "base_uri": "https://localhost:8080/",
          "height": 295
        },
        "id": "mmUaW5R5USB5",
        "outputId": "3a9b0fc4-fa0e-4b81-b13a-0d88a0de335b"
      },
      "source": [
        "# plot lines 'SGD', 'RMSprop', 'Adagrad', 'Adadelta', 'Adam' Accuracy vs Learning Rate => For training Accuracy\n",
        "plt.plot(learning_rates, SGD_train, label = \"SGD\")\n",
        "plt.plot(learning_rates, RMSprop_train, label = \"RMSprop\")\n",
        "plt.plot(learning_rates, Adagrad_train, label = \"Adagrad\")\n",
        "plt.plot(learning_rates, Adadelta_train, label = \"Adadelta\")\n",
        "plt.plot(learning_rates, Adam_train, label = \"Adam\")\n",
        "plt.xlabel(\"Learning Rate\")\n",
        "plt.ylabel(\"Accuracy\")\n",
        "plt.title(\"Optimización con Accuracy de entrenamiento\")\n",
        "plt.grid()\n",
        "plt.legend()\n",
        "plt.show()"
      ],
      "execution_count": 10,
      "outputs": [
        {
          "output_type": "display_data",
          "data": {
            "image/png": "[encoded data removed]",
            "text/plain": [
              "<Figure size 432x288 with 1 Axes>"
            ]
          },
          "metadata": {
            "tags": [],
            "needs_background": "light"
          }
        }
      ]
    },
    {
      "cell_type": "markdown",
      "metadata": {
        "id": "Qg6-_s7OjFAV"
      },
      "source": [
        "A continuación lo propio sobre los datos de validación"
      ]
    },
    {
      "cell_type": "code",
      "metadata": {
        "colab": {
          "base_uri": "https://localhost:8080/",
          "height": 295
        },
        "id": "pHgyEBeYW7l4",
        "outputId": "164e701a-9282-4ac0-a299-edd8e8f86ae6"
      },
      "source": [
        "# plot lines 'SGD', 'RMSprop', 'Adagrad', 'Adadelta', 'Adam' Accuracy vs Learning Rate => For validation Accuracy\n",
        "plt.plot(learning_rates, SGD_val, label = \"SGD\")\n",
        "plt.plot(learning_rates, RMSprop_val, label = \"RMSprop\")\n",
        "plt.plot(learning_rates, Adagrad_val, label = \"Adagrad\")\n",
        "plt.plot(learning_rates, Adadelta_val, label = \"Adadelta\")\n",
        "plt.plot(learning_rates, Adam_val, label = \"Adam\")\n",
        "plt.xlabel(\"Learning Rate\")\n",
        "plt.ylabel(\"Accuracy\")\n",
        "plt.title(\"Optimización con Accuracy de validación\")\n",
        "plt.grid()\n",
        "plt.legend()\n",
        "plt.show()"
      ],
      "execution_count": 11,
      "outputs": [
        {
          "output_type": "display_data",
          "data": {
            "image/png": "[encoded data removed]",
            "text/plain": [
              "<Figure size 432x288 with 1 Axes>"
            ]
          },
          "metadata": {
            "tags": [],
            "needs_background": "light"
          }
        }
      ]
    },
    {
      "cell_type": "markdown",
      "metadata": {
        "id": "LKtWlhtcjZmy"
      },
      "source": [
        "Como era de esperarse se puede observar que independiente del optimizador se obtienen buenos resultados debido a la gran cantidad de datos(≈90%), una diferencia notable es que Adadelta tiene un comportamiento muy diferente a los demás, ya que a diferencia del resto de optimizadores que funciona mejor con valores de learning_rate bajos (cercanos a 0), Adadelta funciona mejor con valores altos de learning_rate, a continuación se detalla el comportamiento del accuracy para cada combinación lr - optimizador"
      ]
    },
    {
      "cell_type": "code",
      "metadata": {
        "colab": {
          "base_uri": "https://localhost:8080/"
        },
        "id": "g7RTwiHxtnMw",
        "outputId": "7919b099-47c4-452b-bab7-3a3b7980c29d"
      },
      "source": [
        "#Adagrad Optimization - validation set \n",
        "for i in range(len(learning_rates)):\n",
        "  print(\"{}. Acc: {}, lr:{}\".format(i+1, Adagrad_val[i], learning_rates[i]))"
      ],
      "execution_count": 12,
      "outputs": [
        {
          "output_type": "stream",
          "text": [
            "1. Acc: 0.9010999798774719, lr:0.001\n",
            "2. Acc: 0.9541000127792358, lr:0.01\n",
            "3. Acc: 0.975600004196167, lr:0.05\n",
            "4. Acc: 0.9779000282287598, lr:0.1\n",
            "5. Acc: 0.9739000201225281, lr:0.25\n",
            "6. Acc: 0.9578999876976013, lr:0.5\n",
            "7. Acc: 0.8306999802589417, lr:0.75\n",
            "8. Acc: 0.8773000240325928, lr:0.9\n",
            "9. Acc: 0.10100000351667404, lr:1\n",
            "10. Acc: 0.23649999499320984, lr:1.2\n",
            "11. Acc: 0.20909999310970306, lr:1.35\n",
            "12. Acc: 0.11349999904632568, lr:1.5\n"
          ],
          "name": "stdout"
        }
      ]
    },
    {
      "cell_type": "code",
      "metadata": {
        "colab": {
          "base_uri": "https://localhost:8080/"
        },
        "id": "dhFp4UWkug4j",
        "outputId": "2ae69de3-2d89-49fb-facb-a06b15313dd8"
      },
      "source": [
        "#Adam Optimization - validation set \n",
        "for i in range(len(learning_rates)):\n",
        "  print(\"{}. Acc: {}, lr:{}\".format(i+1, Adam_val[i], learning_rates[i]))"
      ],
      "execution_count": 13,
      "outputs": [
        {
          "output_type": "stream",
          "text": [
            "1. Acc: 0.975600004196167, lr:0.001\n",
            "2. Acc: 0.9517999887466431, lr:0.01\n",
            "3. Acc: 0.8199999928474426, lr:0.05\n",
            "4. Acc: 0.4359000027179718, lr:0.1\n",
            "5. Acc: 0.11349999904632568, lr:0.25\n",
            "6. Acc: 0.09740000218153, lr:0.5\n",
            "7. Acc: 0.0957999974489212, lr:0.75\n",
            "8. Acc: 0.0957999974489212, lr:0.9\n",
            "9. Acc: 0.11379999667406082, lr:1\n",
            "10. Acc: 0.09740000218153, lr:1.2\n",
            "11. Acc: 0.10279999673366547, lr:1.35\n",
            "12. Acc: 0.10109999775886536, lr:1.5\n"
          ],
          "name": "stdout"
        }
      ]
    },
    {
      "cell_type": "code",
      "metadata": {
        "colab": {
          "base_uri": "https://localhost:8080/"
        },
        "id": "XAhNxGjau2fI",
        "outputId": "33400da6-ecf9-4750-f5ac-45640929b98a"
      },
      "source": [
        "#SGD Optimization - validation set \n",
        "for i in range(len(learning_rates)):\n",
        "  print(\"{}. Acc: {}, lr:{}\".format(i+1, SGD_val[i], learning_rates[i]))"
      ],
      "execution_count": 14,
      "outputs": [
        {
          "output_type": "stream",
          "text": [
            "1. Acc: 0.8841999769210815, lr:0.001\n",
            "2. Acc: 0.9409999847412109, lr:0.01\n",
            "3. Acc: 0.9688000082969666, lr:0.05\n",
            "4. Acc: 0.9750000238418579, lr:0.1\n",
            "5. Acc: 0.9761999845504761, lr:0.25\n",
            "6. Acc: 0.9714000225067139, lr:0.5\n",
            "7. Acc: 0.9598000049591064, lr:0.75\n",
            "8. Acc: 0.9420999884605408, lr:0.9\n",
            "9. Acc: 0.9466000199317932, lr:1\n",
            "10. Acc: 0.7188000082969666, lr:1.2\n",
            "11. Acc: 0.44130000472068787, lr:1.35\n",
            "12. Acc: 0.28940001130104065, lr:1.5\n"
          ],
          "name": "stdout"
        }
      ]
    },
    {
      "cell_type": "code",
      "metadata": {
        "colab": {
          "base_uri": "https://localhost:8080/"
        },
        "id": "31bN3uQ7u6TR",
        "outputId": "a9c278e4-521f-472e-ed37-1e1ddf01e83f"
      },
      "source": [
        "#Adadelta Optimization - validation set\n",
        "for i in range(len(learning_rates)):\n",
        "  print(\"{}. Acc: {}, lr:{}\".format(i+1, Adadelta_val[i], learning_rates[i]))"
      ],
      "execution_count": 15,
      "outputs": [
        {
          "output_type": "stream",
          "text": [
            "1. Acc: 0.6703000068664551, lr:0.001\n",
            "2. Acc: 0.8873000144958496, lr:0.01\n",
            "3. Acc: 0.9276999831199646, lr:0.05\n",
            "4. Acc: 0.9406999945640564, lr:0.1\n",
            "5. Acc: 0.9589999914169312, lr:0.25\n",
            "6. Acc: 0.9703999757766724, lr:0.5\n",
            "7. Acc: 0.9721999764442444, lr:0.75\n",
            "8. Acc: 0.9725000262260437, lr:0.9\n",
            "9. Acc: 0.9749000072479248, lr:1\n",
            "10. Acc: 0.9750000238418579, lr:1.2\n",
            "11. Acc: 0.9779000282287598, lr:1.35\n",
            "12. Acc: 0.9771999716758728, lr:1.5\n"
          ],
          "name": "stdout"
        }
      ]
    },
    {
      "cell_type": "code",
      "metadata": {
        "colab": {
          "base_uri": "https://localhost:8080/"
        },
        "id": "aALWuINZu6aC",
        "outputId": "9229b5d4-886b-4f2c-cb25-d1e183a507c1"
      },
      "source": [
        "#RMSprop Optimization - validation set\n",
        "for i in range(len(learning_rates)):\n",
        "  print(\"{}. Acc: {}, lr:{}\".format(i+1, RMSprop_val[i], learning_rates[i]))"
      ],
      "execution_count": 16,
      "outputs": [
        {
          "output_type": "stream",
          "text": [
            "1. Acc: 0.9728000164031982, lr:0.001\n",
            "2. Acc: 0.9621000289916992, lr:0.01\n",
            "3. Acc: 0.8646000027656555, lr:0.05\n",
            "4. Acc: 0.7196000218391418, lr:0.1\n",
            "5. Acc: 0.45320001244544983, lr:0.25\n",
            "6. Acc: 0.1793999969959259, lr:0.5\n",
            "7. Acc: 0.1386999934911728, lr:0.75\n",
            "8. Acc: 0.19480000436306, lr:0.9\n",
            "9. Acc: 0.23919999599456787, lr:1\n",
            "10. Acc: 0.2517000138759613, lr:1.2\n",
            "11. Acc: 0.1347000002861023, lr:1.35\n",
            "12. Acc: 0.09589999914169312, lr:1.5\n"
          ],
          "name": "stdout"
        }
      ]
    },
    {
      "cell_type": "markdown",
      "metadata": {
        "id": "OkWcn7q6lWgu"
      },
      "source": [
        "Se analizará la función de perdida y el accuracy para el escenario optimo, que en este caso corresponde a Adadelta y un learning_rate de 1.5"
      ]
    },
    {
      "cell_type": "code",
      "metadata": {
        "colab": {
          "base_uri": "https://localhost:8080/"
        },
        "id": "7HmqZhgTlU_y",
        "outputId": "b4d3ef26-1594-4d13-9bd0-e1542857d829"
      },
      "source": [
        "    model = tf.keras.models.Sequential([\n",
        "      tf.keras.layers.Flatten(input_shape=(28, 28)),\n",
        "      tf.keras.layers.Dense(128, activation='relu'),\n",
        "      tf.keras.layers.Dropout(0.2),\n",
        "      tf.keras.layers.Dense(10, activation='softmax')\n",
        "    ])\n",
        "    #opt = tf.keras.optimizers.Adam(learning_rate=my_lr)\n",
        "    #str_opt = \"tf.keras.optimizers.\" + optimizers[1] + \"(learning_rate=my_lr)\"\n",
        "    #str_opt = \"tf.keras.optimizers.{}(learning_rate={})\".format(my_optimizer, my_lr)\n",
        "    opt = tf.keras.optimizers.Adadelta(learning_rate=1.5)\n",
        "    #opt = eval(str_opt)\n",
        "    model.compile(optimizer=opt,\n",
        "                  loss='sparse_categorical_crossentropy',\n",
        "                  metrics=['accuracy'])\n",
        "    history = model.fit(x_train, y_train, epochs=5)\n"
      ],
      "execution_count": 17,
      "outputs": [
        {
          "output_type": "stream",
          "text": [
            "Epoch 1/5\n",
            "1875/1875 [==============================] - 4s 2ms/step - loss: 0.2781 - accuracy: 0.9178\n",
            "Epoch 2/5\n",
            "1875/1875 [==============================] - 3s 2ms/step - loss: 0.1426 - accuracy: 0.9575\n",
            "Epoch 3/5\n",
            "1875/1875 [==============================] - 3s 2ms/step - loss: 0.1112 - accuracy: 0.9671\n",
            "Epoch 4/5\n",
            "1875/1875 [==============================] - 3s 2ms/step - loss: 0.0946 - accuracy: 0.9721\n",
            "Epoch 5/5\n",
            "1875/1875 [==============================] - 3s 2ms/step - loss: 0.0827 - accuracy: 0.9747\n"
          ],
          "name": "stdout"
        }
      ]
    },
    {
      "cell_type": "code",
      "metadata": {
        "colab": {
          "base_uri": "https://localhost:8080/",
          "height": 350
        },
        "id": "3wL9IAh8mxS6",
        "outputId": "40086bba-e79d-46f2-9828-4d82192e1298"
      },
      "source": [
        "plt.figure(figsize=(10,5))\n",
        "plt.subplot(1,2,1)\n",
        "plt.title(\"Loss v epoch\")\n",
        "plt.xlabel('Epoch')\n",
        "plt.ylabel('Loss')\n",
        "plt.grid()\n",
        "plt.plot(history.history['loss'])\n",
        "plt.subplot(1,2,2)\n",
        "plt.title(\"Accuracy v epoch\")\n",
        "plt.xlabel('Epoch')\n",
        "plt.ylabel('Accuracy')\n",
        "plt.grid()\n",
        "plt.plot(history.history['accuracy'])\n",
        "plt.show()"
      ],
      "execution_count": 18,
      "outputs": [
        {
          "output_type": "display_data",
          "data": {
            "image/png": "[encoded data removed]",
            "text/plain": [
              "<Figure size 720x360 with 2 Axes>"
            ]
          },
          "metadata": {
            "tags": [],
            "needs_background": "light"
          }
        }
      ]
    },
    {
      "cell_type": "markdown",
      "metadata": {
        "id": "eG41ydTGnnhC"
      },
      "source": [
        "3. Reducir el volumen de los datos a 600 "
      ]
    },
    {
      "cell_type": "code",
      "metadata": {
        "id": "mmUIHPnCyBtw"
      },
      "source": [
        "sub_x_train = (x_train)[0:600]\n",
        "sub_y_train = (y_train)[0:600]"
      ],
      "execution_count": 19,
      "outputs": []
    },
    {
      "cell_type": "code",
      "metadata": {
        "id": "xnfVjh7Z9-Q-"
      },
      "source": [
        "#(x_test, y_test)\n",
        "#sub_x_test = (x_test)[0:200]\n",
        "sub_x_test = (x_test)\n",
        "#sub_y_test = (y_test)[0:200]\n",
        "sub_y_test = (y_test)"
      ],
      "execution_count": 20,
      "outputs": []
    },
    {
      "cell_type": "code",
      "metadata": {
        "colab": {
          "base_uri": "https://localhost:8080/"
        },
        "id": "ZxcIrLUx-Ke6",
        "outputId": "d4c62aca-028a-45bb-c5ea-1eb06bd78fa2"
      },
      "source": [
        "#results = {}\n",
        "sub_SGD_train = []\n",
        "sub_RMSprop_train = []\n",
        "sub_Adagrad_train = []\n",
        "sub_Adadelta_train = []\n",
        "sub_Adam_train = []\n",
        "\n",
        "sub_SGD_val = []\n",
        "sub_RMSprop_val = []\n",
        "sub_Adagrad_val = []\n",
        "sub_Adadelta_val = []\n",
        "sub_Adam_val = []\n",
        "\n",
        "for my_optimizer in optimizers:\n",
        "  for my_lr in learning_rates:\n",
        "    model = tf.keras.models.Sequential([\n",
        "      tf.keras.layers.Flatten(input_shape=(28, 28)),\n",
        "      tf.keras.layers.Dense(128, activation='relu'),\n",
        "      tf.keras.layers.Dropout(0.2),\n",
        "      tf.keras.layers.Dense(10, activation='softmax')\n",
        "    ])\n",
        "    #opt = tf.keras.optimizers.Adam(learning_rate=my_lr)\n",
        "    #str_opt = \"tf.keras.optimizers.\" + optimizers[1] + \"(learning_rate=my_lr)\"\n",
        "    str_opt = \"tf.keras.optimizers.{}(learning_rate={})\".format(my_optimizer, my_lr)\n",
        "    opt = eval(str_opt)\n",
        "    model.compile(optimizer=opt,\n",
        "                  loss='sparse_categorical_crossentropy',\n",
        "                  metrics=['accuracy'])\n",
        "    model.fit(sub_x_train, sub_y_train, epochs=5)\n",
        "    #results[my_optimizer + str(my_lr) +'_train_acc'] = model.history.history[\"accuracy\"][-1]\n",
        "    arr_str_t = \"sub_{}_train.append(model.history.history['accuracy'][-1])\".format(my_optimizer)\n",
        "    eval(arr_str_t)\n",
        "    #results[my_optimizer + str(my_lr) +'_test_acc'] = model.evaluate(x_test,  y_test, verbose=2)[1]\n",
        "    arr_str_v = \"sub_{}_val.append(model.evaluate(sub_x_test,  sub_y_test, verbose=2)[1])\".format(my_optimizer)\n",
        "    eval(arr_str_v)"
      ],
      "execution_count": 21,
      "outputs": [
        {
          "output_type": "stream",
          "text": [
            "Epoch 1/5\n",
            "19/19 [==============================] - 0s 2ms/step - loss: 2.4049 - accuracy: 0.0850\n",
            "Epoch 2/5\n",
            "19/19 [==============================] - 0s 2ms/step - loss: 2.3773 - accuracy: 0.0900\n",
            "Epoch 3/5\n",
            "19/19 [==============================] - 0s 2ms/step - loss: 2.3733 - accuracy: 0.0800\n",
            "Epoch 4/5\n",
            "19/19 [==============================] - 0s 2ms/step - loss: 2.3520 - accuracy: 0.1217\n",
            "Epoch 5/5\n",
            "19/19 [==============================] - 0s 2ms/step - loss: 2.3301 - accuracy: 0.1167\n",
            "313/313 - 1s - loss: 2.2923 - accuracy: 0.1452\n",
            "Epoch 1/5\n",
            "19/19 [==============================] - 0s 2ms/step - loss: 2.3363 - accuracy: 0.1050\n",
            "Epoch 2/5\n",
            "19/19 [==============================] - 0s 2ms/step - loss: 2.1288 - accuracy: 0.2767\n",
            "Epoch 3/5\n",
            "19/19 [==============================] - 0s 2ms/step - loss: 1.9490 - accuracy: 0.4517\n",
            "Epoch 4/5\n",
            "19/19 [==============================] - 0s 2ms/step - loss: 1.7998 - accuracy: 0.5550\n",
            "Epoch 5/5\n",
            "19/19 [==============================] - 0s 2ms/step - loss: 1.6578 - accuracy: 0.6450\n",
            "313/313 - 0s - loss: 1.6638 - accuracy: 0.6224\n",
            "Epoch 1/5\n",
            "19/19 [==============================] - 0s 2ms/step - loss: 2.0120 - accuracy: 0.3633\n",
            "Epoch 2/5\n",
            "19/19 [==============================] - 0s 2ms/step - loss: 1.3718 - accuracy: 0.6917\n",
            "Epoch 3/5\n",
            "19/19 [==============================] - 0s 2ms/step - loss: 1.0301 - accuracy: 0.7550\n",
            "Epoch 4/5\n",
            "19/19 [==============================] - 0s 2ms/step - loss: 0.8032 - accuracy: 0.8067\n",
            "Epoch 5/5\n",
            "19/19 [==============================] - 0s 2ms/step - loss: 0.6655 - accuracy: 0.8450\n",
            "313/313 - 1s - loss: 0.7575 - accuracy: 0.7923\n",
            "Epoch 1/5\n",
            "19/19 [==============================] - 0s 2ms/step - loss: 1.7486 - accuracy: 0.4633\n",
            "Epoch 2/5\n",
            "19/19 [==============================] - 0s 2ms/step - loss: 0.9673 - accuracy: 0.7650\n",
            "Epoch 3/5\n",
            "19/19 [==============================] - 0s 2ms/step - loss: 0.6521 - accuracy: 0.8383\n",
            "Epoch 4/5\n",
            "19/19 [==============================] - 0s 2ms/step - loss: 0.5329 - accuracy: 0.8583\n",
            "Epoch 5/5\n",
            "19/19 [==============================] - 0s 2ms/step - loss: 0.4367 - accuracy: 0.8800\n",
            "313/313 - 1s - loss: 0.5889 - accuracy: 0.8241\n",
            "Epoch 1/5\n",
            "19/19 [==============================] - 0s 2ms/step - loss: 1.4122 - accuracy: 0.5600\n",
            "Epoch 2/5\n",
            "19/19 [==============================] - 0s 2ms/step - loss: 0.6386 - accuracy: 0.8050\n",
            "Epoch 3/5\n",
            "19/19 [==============================] - 0s 2ms/step - loss: 0.4614 - accuracy: 0.8733\n",
            "Epoch 4/5\n",
            "19/19 [==============================] - 0s 2ms/step - loss: 0.3148 - accuracy: 0.9050\n",
            "Epoch 5/5\n",
            "19/19 [==============================] - 0s 2ms/step - loss: 0.2581 - accuracy: 0.9167\n",
            "313/313 - 1s - loss: 0.5291 - accuracy: 0.8320\n",
            "Epoch 1/5\n",
            "19/19 [==============================] - 0s 2ms/step - loss: 1.3215 - accuracy: 0.5683\n",
            "Epoch 2/5\n",
            "19/19 [==============================] - 0s 2ms/step - loss: 0.5926 - accuracy: 0.8133\n",
            "Epoch 3/5\n",
            "19/19 [==============================] - 0s 2ms/step - loss: 0.4016 - accuracy: 0.8733\n",
            "Epoch 4/5\n",
            "19/19 [==============================] - 0s 2ms/step - loss: 0.2619 - accuracy: 0.9233\n",
            "Epoch 5/5\n",
            "19/19 [==============================] - 0s 2ms/step - loss: 0.1492 - accuracy: 0.9583\n",
            "313/313 - 0s - loss: 0.6470 - accuracy: 0.8050\n",
            "Epoch 1/5\n",
            "19/19 [==============================] - 0s 2ms/step - loss: 1.7875 - accuracy: 0.4067\n",
            "Epoch 2/5\n",
            "19/19 [==============================] - 0s 2ms/step - loss: 0.9228 - accuracy: 0.7117\n",
            "Epoch 3/5\n",
            "19/19 [==============================] - 0s 2ms/step - loss: 0.6909 - accuracy: 0.7550\n",
            "Epoch 4/5\n",
            "19/19 [==============================] - 0s 2ms/step - loss: 0.3584 - accuracy: 0.8750\n",
            "Epoch 5/5\n",
            "19/19 [==============================] - 0s 2ms/step - loss: 0.2981 - accuracy: 0.9033\n",
            "313/313 - 0s - loss: 0.5805 - accuracy: 0.8227\n",
            "Epoch 1/5\n",
            "19/19 [==============================] - 0s 3ms/step - loss: 2.4789 - accuracy: 0.3083\n",
            "Epoch 2/5\n",
            "19/19 [==============================] - 0s 2ms/step - loss: 1.3882 - accuracy: 0.5350\n",
            "Epoch 3/5\n",
            "19/19 [==============================] - 0s 2ms/step - loss: 0.9285 - accuracy: 0.6783\n",
            "Epoch 4/5\n",
            "19/19 [==============================] - 0s 2ms/step - loss: 0.5818 - accuracy: 0.7900\n",
            "Epoch 5/5\n",
            "19/19 [==============================] - 0s 2ms/step - loss: 0.4862 - accuracy: 0.8383\n",
            "313/313 - 0s - loss: 0.6941 - accuracy: 0.7878\n",
            "Epoch 1/5\n",
            "19/19 [==============================] - 0s 2ms/step - loss: 3.0154 - accuracy: 0.2617\n",
            "Epoch 2/5\n",
            "19/19 [==============================] - 0s 2ms/step - loss: 1.8897 - accuracy: 0.3650\n",
            "Epoch 3/5\n",
            "19/19 [==============================] - 0s 2ms/step - loss: 1.2883 - accuracy: 0.5917\n",
            "Epoch 4/5\n",
            "19/19 [==============================] - 0s 2ms/step - loss: 1.0076 - accuracy: 0.6483\n",
            "Epoch 5/5\n",
            "19/19 [==============================] - 0s 2ms/step - loss: 0.9402 - accuracy: 0.6900\n",
            "313/313 - 0s - loss: 0.7304 - accuracy: 0.7706\n",
            "Epoch 1/5\n",
            "19/19 [==============================] - 0s 2ms/step - loss: 2.8985 - accuracy: 0.1967\n",
            "Epoch 2/5\n",
            "19/19 [==============================] - 0s 2ms/step - loss: 1.9132 - accuracy: 0.3667\n",
            "Epoch 3/5\n",
            "19/19 [==============================] - 0s 2ms/step - loss: 1.6860 - accuracy: 0.4533\n",
            "Epoch 4/5\n",
            "19/19 [==============================] - 0s 2ms/step - loss: 1.6417 - accuracy: 0.4200\n",
            "Epoch 5/5\n",
            "19/19 [==============================] - 0s 2ms/step - loss: 1.4317 - accuracy: 0.5067\n",
            "313/313 - 0s - loss: 1.5597 - accuracy: 0.3905\n",
            "Epoch 1/5\n",
            "19/19 [==============================] - 0s 2ms/step - loss: 3.4955 - accuracy: 0.1800\n",
            "Epoch 2/5\n",
            "19/19 [==============================] - 0s 2ms/step - loss: 2.2422 - accuracy: 0.2133\n",
            "Epoch 3/5\n",
            "19/19 [==============================] - 0s 2ms/step - loss: 2.1407 - accuracy: 0.2317\n",
            "Epoch 4/5\n",
            "19/19 [==============================] - 0s 2ms/step - loss: 2.2762 - accuracy: 0.2017\n",
            "Epoch 5/5\n",
            "19/19 [==============================] - 0s 2ms/step - loss: 2.0070 - accuracy: 0.2417\n",
            "313/313 - 1s - loss: 1.8119 - accuracy: 0.3302\n",
            "Epoch 1/5\n",
            "19/19 [==============================] - 0s 2ms/step - loss: 5.1997 - accuracy: 0.1983\n",
            "Epoch 2/5\n",
            "19/19 [==============================] - 0s 2ms/step - loss: 2.4942 - accuracy: 0.1483\n",
            "Epoch 3/5\n",
            "19/19 [==============================] - 0s 2ms/step - loss: 2.1612 - accuracy: 0.2083\n",
            "Epoch 4/5\n",
            "19/19 [==============================] - 0s 2ms/step - loss: 2.4074 - accuracy: 0.1550\n",
            "Epoch 5/5\n",
            "19/19 [==============================] - 0s 2ms/step - loss: 2.1868 - accuracy: 0.1783\n",
            "313/313 - 1s - loss: 2.1469 - accuracy: 0.1834\n",
            "Epoch 1/5\n",
            "19/19 [==============================] - 0s 3ms/step - loss: 1.5536 - accuracy: 0.5767\n",
            "Epoch 2/5\n",
            "19/19 [==============================] - 0s 2ms/step - loss: 0.8059 - accuracy: 0.8283\n",
            "Epoch 3/5\n",
            "19/19 [==============================] - 0s 3ms/step - loss: 0.5462 - accuracy: 0.8733\n",
            "Epoch 4/5\n",
            "19/19 [==============================] - 0s 2ms/step - loss: 0.4453 - accuracy: 0.8867\n",
            "Epoch 5/5\n",
            "19/19 [==============================] - 0s 2ms/step - loss: 0.3561 - accuracy: 0.9017\n",
            "313/313 - 0s - loss: 0.5160 - accuracy: 0.8465\n",
            "Epoch 1/5\n",
            "19/19 [==============================] - 0s 2ms/step - loss: 1.6233 - accuracy: 0.6033\n",
            "Epoch 2/5\n",
            "19/19 [==============================] - 0s 2ms/step - loss: 0.4483 - accuracy: 0.8433\n",
            "Epoch 3/5\n",
            "19/19 [==============================] - 0s 3ms/step - loss: 0.3092 - accuracy: 0.9000\n",
            "Epoch 4/5\n",
            "19/19 [==============================] - 0s 2ms/step - loss: 0.1330 - accuracy: 0.9667\n",
            "Epoch 5/5\n",
            "19/19 [==============================] - 0s 2ms/step - loss: 0.2208 - accuracy: 0.9200\n",
            "313/313 - 0s - loss: 0.7954 - accuracy: 0.8194\n",
            "Epoch 1/5\n",
            "19/19 [==============================] - 0s 3ms/step - loss: 8.7733 - accuracy: 0.4900\n",
            "Epoch 2/5\n",
            "19/19 [==============================] - 0s 2ms/step - loss: 1.0072 - accuracy: 0.7033\n",
            "Epoch 3/5\n",
            "19/19 [==============================] - 0s 2ms/step - loss: 0.7336 - accuracy: 0.8033\n",
            "Epoch 4/5\n",
            "19/19 [==============================] - 0s 2ms/step - loss: 0.6983 - accuracy: 0.8067\n",
            "Epoch 5/5\n",
            "19/19 [==============================] - 0s 2ms/step - loss: 0.5594 - accuracy: 0.8467\n",
            "313/313 - 0s - loss: 1.4938 - accuracy: 0.7365\n",
            "Epoch 1/5\n",
            "19/19 [==============================] - 0s 2ms/step - loss: 31.4323 - accuracy: 0.4617\n",
            "Epoch 2/5\n",
            "19/19 [==============================] - 0s 2ms/step - loss: 1.2621 - accuracy: 0.6767\n",
            "Epoch 3/5\n",
            "19/19 [==============================] - 0s 2ms/step - loss: 1.1479 - accuracy: 0.7350\n",
            "Epoch 4/5\n",
            "19/19 [==============================] - 0s 2ms/step - loss: 1.9604 - accuracy: 0.6983\n",
            "Epoch 5/5\n",
            "19/19 [==============================] - 0s 2ms/step - loss: 1.7698 - accuracy: 0.7650\n",
            "313/313 - 0s - loss: 1.4338 - accuracy: 0.7679\n",
            "Epoch 1/5\n",
            "19/19 [==============================] - 0s 2ms/step - loss: 213.4207 - accuracy: 0.4133\n",
            "Epoch 2/5\n",
            "19/19 [==============================] - 0s 2ms/step - loss: 2.0006 - accuracy: 0.5633\n",
            "Epoch 3/5\n",
            "19/19 [==============================] - 0s 2ms/step - loss: 1.7381 - accuracy: 0.5417\n",
            "Epoch 4/5\n",
            "19/19 [==============================] - 0s 2ms/step - loss: 2.8097 - accuracy: 0.5200\n",
            "Epoch 5/5\n",
            "19/19 [==============================] - 0s 2ms/step - loss: 2.2417 - accuracy: 0.5033\n",
            "313/313 - 0s - loss: 1.8445 - accuracy: 0.4250\n",
            "Epoch 1/5\n",
            "19/19 [==============================] - 0s 2ms/step - loss: 700.1764 - accuracy: 0.4017\n",
            "Epoch 2/5\n",
            "19/19 [==============================] - 0s 2ms/step - loss: 6.4691 - accuracy: 0.4967\n",
            "Epoch 3/5\n",
            "19/19 [==============================] - 0s 2ms/step - loss: 6.9963 - accuracy: 0.4283\n",
            "Epoch 4/5\n",
            "19/19 [==============================] - 0s 2ms/step - loss: 18.0938 - accuracy: 0.3800\n",
            "Epoch 5/5\n",
            "19/19 [==============================] - 0s 2ms/step - loss: 12.8789 - accuracy: 0.3150\n",
            "313/313 - 0s - loss: 2.7078 - accuracy: 0.3316\n",
            "Epoch 1/5\n",
            "19/19 [==============================] - 0s 2ms/step - loss: 1723.2079 - accuracy: 0.3733\n",
            "Epoch 2/5\n",
            "19/19 [==============================] - 0s 2ms/step - loss: 8.1370 - accuracy: 0.4300\n",
            "Epoch 3/5\n",
            "19/19 [==============================] - 0s 2ms/step - loss: 7.1348 - accuracy: 0.3717\n",
            "Epoch 4/5\n",
            "19/19 [==============================] - 0s 2ms/step - loss: 2.4725 - accuracy: 0.3467\n",
            "Epoch 5/5\n",
            "19/19 [==============================] - 0s 2ms/step - loss: 2.7505 - accuracy: 0.3367\n",
            "313/313 - 0s - loss: 2.5544 - accuracy: 0.2160\n",
            "Epoch 1/5\n",
            "19/19 [==============================] - 0s 2ms/step - loss: 2250.9070 - accuracy: 0.4833\n",
            "Epoch 2/5\n",
            "19/19 [==============================] - 0s 2ms/step - loss: 60.6167 - accuracy: 0.6717\n",
            "Epoch 3/5\n",
            "19/19 [==============================] - 0s 2ms/step - loss: 21.4313 - accuracy: 0.5917\n",
            "Epoch 4/5\n",
            "19/19 [==============================] - 0s 2ms/step - loss: 21.9803 - accuracy: 0.5433\n",
            "Epoch 5/5\n",
            "19/19 [==============================] - 0s 3ms/step - loss: 8.6445 - accuracy: 0.5367\n",
            "313/313 - 0s - loss: 82.3669 - accuracy: 0.4334\n",
            "Epoch 1/5\n",
            "19/19 [==============================] - 0s 2ms/step - loss: 2959.8474 - accuracy: 0.3233\n",
            "Epoch 2/5\n",
            "19/19 [==============================] - 0s 2ms/step - loss: 7.9951 - accuracy: 0.3650\n",
            "Epoch 3/5\n",
            "19/19 [==============================] - 0s 2ms/step - loss: 12.3313 - accuracy: 0.3267\n",
            "Epoch 4/5\n",
            "19/19 [==============================] - 0s 2ms/step - loss: 4.3466 - accuracy: 0.2750\n",
            "Epoch 5/5\n",
            "19/19 [==============================] - 0s 2ms/step - loss: 4.3274 - accuracy: 0.2800\n",
            "313/313 - 0s - loss: 10.5735 - accuracy: 0.2373\n",
            "Epoch 1/5\n",
            "19/19 [==============================] - 0s 3ms/step - loss: 6412.6372 - accuracy: 0.4083\n",
            "Epoch 2/5\n",
            "19/19 [==============================] - 0s 2ms/step - loss: 99.2111 - accuracy: 0.5800\n",
            "Epoch 3/5\n",
            "19/19 [==============================] - 0s 2ms/step - loss: 56.0888 - accuracy: 0.5900\n",
            "Epoch 4/5\n",
            "19/19 [==============================] - 0s 2ms/step - loss: 10.2153 - accuracy: 0.5333\n",
            "Epoch 5/5\n",
            "19/19 [==============================] - 0s 2ms/step - loss: 6.8685 - accuracy: 0.4383\n",
            "313/313 - 1s - loss: 6.8491 - accuracy: 0.3472\n",
            "Epoch 1/5\n",
            "19/19 [==============================] - 0s 3ms/step - loss: 6885.5269 - accuracy: 0.4083\n",
            "Epoch 2/5\n",
            "19/19 [==============================] - 0s 2ms/step - loss: 68.6150 - accuracy: 0.5783\n",
            "Epoch 3/5\n",
            "19/19 [==============================] - 0s 2ms/step - loss: 16.5756 - accuracy: 0.4367\n",
            "Epoch 4/5\n",
            "19/19 [==============================] - 0s 2ms/step - loss: 7.8625 - accuracy: 0.3600\n",
            "Epoch 5/5\n",
            "19/19 [==============================] - 0s 2ms/step - loss: 1.8950 - accuracy: 0.3733\n",
            "313/313 - 1s - loss: 9.7670 - accuracy: 0.3254\n",
            "Epoch 1/5\n",
            "19/19 [==============================] - 0s 2ms/step - loss: 4448.7710 - accuracy: 0.3917\n",
            "Epoch 2/5\n",
            "19/19 [==============================] - 0s 2ms/step - loss: 38.8915 - accuracy: 0.4700\n",
            "Epoch 3/5\n",
            "19/19 [==============================] - 0s 3ms/step - loss: 9.7629 - accuracy: 0.3833\n",
            "Epoch 4/5\n",
            "19/19 [==============================] - 0s 2ms/step - loss: 2.3194 - accuracy: 0.3617\n",
            "Epoch 5/5\n",
            "19/19 [==============================] - 0s 2ms/step - loss: 1.9474 - accuracy: 0.3467\n",
            "313/313 - 0s - loss: 7.1857 - accuracy: 0.3383\n",
            "Epoch 1/5\n",
            "19/19 [==============================] - 0s 2ms/step - loss: 2.3542 - accuracy: 0.0817\n",
            "Epoch 2/5\n",
            "19/19 [==============================] - 0s 2ms/step - loss: 2.2727 - accuracy: 0.1367\n",
            "Epoch 3/5\n",
            "19/19 [==============================] - 0s 2ms/step - loss: 2.2268 - accuracy: 0.1650\n",
            "Epoch 4/5\n",
            "19/19 [==============================] - 0s 2ms/step - loss: 2.1520 - accuracy: 0.2317\n",
            "Epoch 5/5\n",
            "19/19 [==============================] - 0s 2ms/step - loss: 2.1002 - accuracy: 0.2883\n",
            "313/313 - 0s - loss: 2.1070 - accuracy: 0.2972\n",
            "Epoch 1/5\n",
            "19/19 [==============================] - 0s 2ms/step - loss: 2.1374 - accuracy: 0.2667\n",
            "Epoch 2/5\n",
            "19/19 [==============================] - 0s 2ms/step - loss: 1.6376 - accuracy: 0.5783\n",
            "Epoch 3/5\n",
            "19/19 [==============================] - 0s 2ms/step - loss: 1.2971 - accuracy: 0.7000\n",
            "Epoch 4/5\n",
            "19/19 [==============================] - 0s 2ms/step - loss: 1.0731 - accuracy: 0.7733\n",
            "Epoch 5/5\n",
            "19/19 [==============================] - 0s 2ms/step - loss: 0.9121 - accuracy: 0.7750\n",
            "313/313 - 1s - loss: 0.9664 - accuracy: 0.7602\n",
            "Epoch 1/5\n",
            "19/19 [==============================] - 0s 2ms/step - loss: 1.5471 - accuracy: 0.5333\n",
            "Epoch 2/5\n",
            "19/19 [==============================] - 0s 2ms/step - loss: 0.7435 - accuracy: 0.8100\n",
            "Epoch 3/5\n",
            "19/19 [==============================] - 0s 3ms/step - loss: 0.5133 - accuracy: 0.8683\n",
            "Epoch 4/5\n",
            "19/19 [==============================] - 0s 2ms/step - loss: 0.4033 - accuracy: 0.8800\n",
            "Epoch 5/5\n",
            "19/19 [==============================] - 0s 3ms/step - loss: 0.3390 - accuracy: 0.9117\n",
            "313/313 - 0s - loss: 0.5251 - accuracy: 0.8360\n",
            "Epoch 1/5\n",
            "19/19 [==============================] - 1s 2ms/step - loss: 1.3492 - accuracy: 0.5683\n",
            "Epoch 2/5\n",
            "19/19 [==============================] - 0s 2ms/step - loss: 0.6049 - accuracy: 0.8150\n",
            "Epoch 3/5\n",
            "19/19 [==============================] - 0s 2ms/step - loss: 0.3849 - accuracy: 0.8800\n",
            "Epoch 4/5\n",
            "19/19 [==============================] - 0s 2ms/step - loss: 0.2984 - accuracy: 0.9183\n",
            "Epoch 5/5\n",
            "19/19 [==============================] - 0s 2ms/step - loss: 0.2215 - accuracy: 0.9400\n",
            "313/313 - 0s - loss: 0.5921 - accuracy: 0.8249\n",
            "Epoch 1/5\n",
            "19/19 [==============================] - 0s 2ms/step - loss: 1.7717 - accuracy: 0.4350\n",
            "Epoch 2/5\n",
            "19/19 [==============================] - 0s 2ms/step - loss: 0.8206 - accuracy: 0.7450\n",
            "Epoch 3/5\n",
            "19/19 [==============================] - 0s 2ms/step - loss: 0.4763 - accuracy: 0.8517\n",
            "Epoch 4/5\n",
            "19/19 [==============================] - 0s 2ms/step - loss: 0.2899 - accuracy: 0.9133\n",
            "Epoch 5/5\n",
            "19/19 [==============================] - 0s 2ms/step - loss: 0.2394 - accuracy: 0.9233\n",
            "313/313 - 0s - loss: 0.4975 - accuracy: 0.8585\n",
            "Epoch 1/5\n",
            "19/19 [==============================] - 0s 3ms/step - loss: 2.8298 - accuracy: 0.2900\n",
            "Epoch 2/5\n",
            "19/19 [==============================] - 0s 2ms/step - loss: 1.8402 - accuracy: 0.3600\n",
            "Epoch 3/5\n",
            "19/19 [==============================] - 0s 2ms/step - loss: 1.5460 - accuracy: 0.4567\n",
            "Epoch 4/5\n",
            "19/19 [==============================] - 0s 2ms/step - loss: 1.2526 - accuracy: 0.5467\n",
            "Epoch 5/5\n",
            "19/19 [==============================] - 0s 2ms/step - loss: 1.1518 - accuracy: 0.5967\n",
            "313/313 - 1s - loss: 1.1013 - accuracy: 0.6070\n",
            "Epoch 1/5\n",
            "19/19 [==============================] - 0s 2ms/step - loss: 5.5490 - accuracy: 0.1950\n",
            "Epoch 2/5\n",
            "19/19 [==============================] - 0s 2ms/step - loss: 2.1553 - accuracy: 0.2517\n",
            "Epoch 3/5\n",
            "19/19 [==============================] - 0s 2ms/step - loss: 1.8927 - accuracy: 0.2850\n",
            "Epoch 4/5\n",
            "19/19 [==============================] - 0s 2ms/step - loss: 1.8064 - accuracy: 0.3083\n",
            "Epoch 5/5\n",
            "19/19 [==============================] - 0s 2ms/step - loss: 1.8161 - accuracy: 0.2950\n",
            "313/313 - 0s - loss: 1.6466 - accuracy: 0.3839\n",
            "Epoch 1/5\n",
            "19/19 [==============================] - 0s 2ms/step - loss: 7.4584 - accuracy: 0.1633\n",
            "Epoch 2/5\n",
            "19/19 [==============================] - 0s 2ms/step - loss: 2.2946 - accuracy: 0.1633\n",
            "Epoch 3/5\n",
            "19/19 [==============================] - 0s 3ms/step - loss: 2.3160 - accuracy: 0.1917\n",
            "Epoch 4/5\n",
            "19/19 [==============================] - 0s 2ms/step - loss: 2.2024 - accuracy: 0.1917\n",
            "Epoch 5/5\n",
            "19/19 [==============================] - 0s 2ms/step - loss: 2.1610 - accuracy: 0.1817\n",
            "313/313 - 0s - loss: 2.1972 - accuracy: 0.1630\n",
            "Epoch 1/5\n",
            "19/19 [==============================] - 0s 2ms/step - loss: 8.1181 - accuracy: 0.1500\n",
            "Epoch 2/5\n",
            "19/19 [==============================] - 0s 2ms/step - loss: 2.5276 - accuracy: 0.1200\n",
            "Epoch 3/5\n",
            "19/19 [==============================] - 0s 2ms/step - loss: 2.3476 - accuracy: 0.1517\n",
            "Epoch 4/5\n",
            "19/19 [==============================] - 0s 2ms/step - loss: 2.1793 - accuracy: 0.1600\n",
            "Epoch 5/5\n",
            "19/19 [==============================] - 0s 2ms/step - loss: 2.0726 - accuracy: 0.1900\n",
            "313/313 - 0s - loss: 2.0264 - accuracy: 0.2093\n",
            "Epoch 1/5\n",
            "19/19 [==============================] - 0s 2ms/step - loss: 10.9674 - accuracy: 0.1767\n",
            "Epoch 2/5\n",
            "19/19 [==============================] - 0s 2ms/step - loss: 2.3687 - accuracy: 0.1100\n",
            "Epoch 3/5\n",
            "19/19 [==============================] - 0s 2ms/step - loss: 2.3047 - accuracy: 0.1133\n",
            "Epoch 4/5\n",
            "19/19 [==============================] - 0s 2ms/step - loss: 2.2427 - accuracy: 0.1450\n",
            "Epoch 5/5\n",
            "19/19 [==============================] - 0s 3ms/step - loss: 2.2503 - accuracy: 0.1500\n",
            "313/313 - 1s - loss: 2.2722 - accuracy: 0.1312\n",
            "Epoch 1/5\n",
            "19/19 [==============================] - 0s 2ms/step - loss: 15.2277 - accuracy: 0.1483\n",
            "Epoch 2/5\n",
            "19/19 [==============================] - 0s 2ms/step - loss: 2.4916 - accuracy: 0.1133\n",
            "Epoch 3/5\n",
            "19/19 [==============================] - 0s 2ms/step - loss: 2.2857 - accuracy: 0.1383\n",
            "Epoch 4/5\n",
            "19/19 [==============================] - 0s 3ms/step - loss: 2.2632 - accuracy: 0.1450\n",
            "Epoch 5/5\n",
            "19/19 [==============================] - 0s 2ms/step - loss: 2.2360 - accuracy: 0.1667\n",
            "313/313 - 1s - loss: 2.2285 - accuracy: 0.1545\n",
            "Epoch 1/5\n",
            "19/19 [==============================] - 0s 3ms/step - loss: 9.8557 - accuracy: 0.1250\n",
            "Epoch 2/5\n",
            "19/19 [==============================] - 0s 2ms/step - loss: 2.3331 - accuracy: 0.1567\n",
            "Epoch 3/5\n",
            "19/19 [==============================] - 0s 2ms/step - loss: 2.2180 - accuracy: 0.1517\n",
            "Epoch 4/5\n",
            "19/19 [==============================] - 0s 2ms/step - loss: 2.2910 - accuracy: 0.1633\n",
            "Epoch 5/5\n",
            "19/19 [==============================] - 0s 2ms/step - loss: 2.1783 - accuracy: 0.1683\n",
            "313/313 - 0s - loss: 2.2466 - accuracy: 0.1789\n",
            "Epoch 1/5\n",
            "19/19 [==============================] - 0s 3ms/step - loss: 2.3468 - accuracy: 0.1017\n",
            "Epoch 2/5\n",
            "19/19 [==============================] - 0s 2ms/step - loss: 2.3550 - accuracy: 0.0967\n",
            "Epoch 3/5\n",
            "19/19 [==============================] - 0s 2ms/step - loss: 2.3648 - accuracy: 0.1267\n",
            "Epoch 4/5\n",
            "19/19 [==============================] - 0s 2ms/step - loss: 2.3382 - accuracy: 0.1383\n",
            "Epoch 5/5\n",
            "19/19 [==============================] - 0s 2ms/step - loss: 2.3656 - accuracy: 0.1217\n",
            "313/313 - 0s - loss: 2.3012 - accuracy: 0.1579\n",
            "Epoch 1/5\n",
            "19/19 [==============================] - 0s 2ms/step - loss: 2.4737 - accuracy: 0.1067\n",
            "Epoch 2/5\n",
            "19/19 [==============================] - 0s 2ms/step - loss: 2.4449 - accuracy: 0.1033\n",
            "Epoch 3/5\n",
            "19/19 [==============================] - 0s 2ms/step - loss: 2.4051 - accuracy: 0.1217\n",
            "Epoch 4/5\n",
            "19/19 [==============================] - 0s 2ms/step - loss: 2.3775 - accuracy: 0.1317\n",
            "Epoch 5/5\n",
            "19/19 [==============================] - 0s 2ms/step - loss: 2.3760 - accuracy: 0.1133\n",
            "313/313 - 0s - loss: 2.3430 - accuracy: 0.1479\n",
            "Epoch 1/5\n",
            "19/19 [==============================] - 0s 2ms/step - loss: 2.3008 - accuracy: 0.1450\n",
            "Epoch 2/5\n",
            "19/19 [==============================] - 0s 2ms/step - loss: 2.1810 - accuracy: 0.2017\n",
            "Epoch 3/5\n",
            "19/19 [==============================] - 0s 2ms/step - loss: 2.1062 - accuracy: 0.2583\n",
            "Epoch 4/5\n",
            "19/19 [==============================] - 0s 2ms/step - loss: 2.0035 - accuracy: 0.3483\n",
            "Epoch 5/5\n",
            "19/19 [==============================] - 0s 2ms/step - loss: 1.9312 - accuracy: 0.4000\n",
            "313/313 - 1s - loss: 1.8984 - accuracy: 0.4500\n",
            "Epoch 1/5\n",
            "19/19 [==============================] - 0s 2ms/step - loss: 2.2951 - accuracy: 0.1167\n",
            "Epoch 2/5\n",
            "19/19 [==============================] - 0s 2ms/step - loss: 2.0969 - accuracy: 0.2583\n",
            "Epoch 3/5\n",
            "19/19 [==============================] - 0s 2ms/step - loss: 1.9354 - accuracy: 0.4200\n",
            "Epoch 4/5\n",
            "19/19 [==============================] - 0s 2ms/step - loss: 1.7693 - accuracy: 0.5550\n",
            "Epoch 5/5\n",
            "19/19 [==============================] - 0s 2ms/step - loss: 1.6255 - accuracy: 0.6400\n",
            "313/313 - 0s - loss: 1.6648 - accuracy: 0.5883\n",
            "Epoch 1/5\n",
            "19/19 [==============================] - 0s 2ms/step - loss: 2.1745 - accuracy: 0.2267\n",
            "Epoch 2/5\n",
            "19/19 [==============================] - 0s 2ms/step - loss: 1.7591 - accuracy: 0.5400\n",
            "Epoch 3/5\n",
            "19/19 [==============================] - 0s 2ms/step - loss: 1.4235 - accuracy: 0.7267\n",
            "Epoch 4/5\n",
            "19/19 [==============================] - 0s 2ms/step - loss: 1.1534 - accuracy: 0.7733\n",
            "Epoch 5/5\n",
            "19/19 [==============================] - 0s 2ms/step - loss: 0.9446 - accuracy: 0.8283\n",
            "313/313 - 0s - loss: 1.0410 - accuracy: 0.7420\n",
            "Epoch 1/5\n",
            "19/19 [==============================] - 0s 2ms/step - loss: 1.9341 - accuracy: 0.4217\n",
            "Epoch 2/5\n",
            "19/19 [==============================] - 0s 2ms/step - loss: 1.2423 - accuracy: 0.7233\n",
            "Epoch 3/5\n",
            "19/19 [==============================] - 0s 2ms/step - loss: 0.8971 - accuracy: 0.7750\n",
            "Epoch 4/5\n",
            "19/19 [==============================] - 0s 2ms/step - loss: 0.6969 - accuracy: 0.8367\n",
            "Epoch 5/5\n",
            "19/19 [==============================] - 0s 2ms/step - loss: 0.5844 - accuracy: 0.8483\n",
            "313/313 - 0s - loss: 0.7128 - accuracy: 0.7986\n",
            "Epoch 1/5\n",
            "19/19 [==============================] - 0s 2ms/step - loss: 1.8561 - accuracy: 0.4633\n",
            "Epoch 2/5\n",
            "19/19 [==============================] - 0s 2ms/step - loss: 1.0559 - accuracy: 0.7583\n",
            "Epoch 3/5\n",
            "19/19 [==============================] - 0s 2ms/step - loss: 0.7132 - accuracy: 0.8233\n",
            "Epoch 4/5\n",
            "19/19 [==============================] - 0s 2ms/step - loss: 0.5580 - accuracy: 0.8500\n",
            "Epoch 5/5\n",
            "19/19 [==============================] - 0s 3ms/step - loss: 0.4407 - accuracy: 0.8950\n",
            "313/313 - 0s - loss: 0.5991 - accuracy: 0.8263\n",
            "Epoch 1/5\n",
            "19/19 [==============================] - 0s 2ms/step - loss: 1.7775 - accuracy: 0.4583\n",
            "Epoch 2/5\n",
            "19/19 [==============================] - 0s 2ms/step - loss: 0.9269 - accuracy: 0.7833\n",
            "Epoch 3/5\n",
            "19/19 [==============================] - 0s 2ms/step - loss: 0.6064 - accuracy: 0.8533\n",
            "Epoch 4/5\n",
            "19/19 [==============================] - 0s 2ms/step - loss: 0.4980 - accuracy: 0.8617\n",
            "Epoch 5/5\n",
            "19/19 [==============================] - 0s 2ms/step - loss: 0.3986 - accuracy: 0.8967\n",
            "313/313 - 0s - loss: 0.5728 - accuracy: 0.8266\n",
            "Epoch 1/5\n",
            "19/19 [==============================] - 0s 2ms/step - loss: 1.6557 - accuracy: 0.5133\n",
            "Epoch 2/5\n",
            "19/19 [==============================] - 0s 2ms/step - loss: 0.8233 - accuracy: 0.8133\n",
            "Epoch 3/5\n",
            "19/19 [==============================] - 0s 2ms/step - loss: 0.5675 - accuracy: 0.8417\n",
            "Epoch 4/5\n",
            "19/19 [==============================] - 0s 2ms/step - loss: 0.4338 - accuracy: 0.8967\n",
            "Epoch 5/5\n",
            "19/19 [==============================] - 0s 3ms/step - loss: 0.3515 - accuracy: 0.9083\n",
            "313/313 - 0s - loss: 0.5776 - accuracy: 0.8270\n",
            "Epoch 1/5\n",
            "19/19 [==============================] - 0s 2ms/step - loss: 1.6445 - accuracy: 0.5217\n",
            "Epoch 2/5\n",
            "19/19 [==============================] - 0s 2ms/step - loss: 0.7879 - accuracy: 0.8100\n",
            "Epoch 3/5\n",
            "19/19 [==============================] - 0s 2ms/step - loss: 0.5437 - accuracy: 0.8450\n",
            "Epoch 4/5\n",
            "19/19 [==============================] - 0s 3ms/step - loss: 0.3989 - accuracy: 0.9017\n",
            "Epoch 5/5\n",
            "19/19 [==============================] - 0s 2ms/step - loss: 0.3187 - accuracy: 0.9250\n",
            "313/313 - 0s - loss: 0.5420 - accuracy: 0.8301\n",
            "Epoch 1/5\n",
            "19/19 [==============================] - 0s 2ms/step - loss: 1.5718 - accuracy: 0.5433\n",
            "Epoch 2/5\n",
            "19/19 [==============================] - 0s 2ms/step - loss: 0.7321 - accuracy: 0.8033\n",
            "Epoch 3/5\n",
            "19/19 [==============================] - 0s 2ms/step - loss: 0.4947 - accuracy: 0.8617\n",
            "Epoch 4/5\n",
            "19/19 [==============================] - 0s 2ms/step - loss: 0.3720 - accuracy: 0.9067\n",
            "Epoch 5/5\n",
            "19/19 [==============================] - 0s 3ms/step - loss: 0.3113 - accuracy: 0.9183\n",
            "313/313 - 0s - loss: 0.5132 - accuracy: 0.8459\n",
            "Epoch 1/5\n",
            "19/19 [==============================] - 0s 2ms/step - loss: 1.5602 - accuracy: 0.5433\n",
            "Epoch 2/5\n",
            "19/19 [==============================] - 0s 2ms/step - loss: 0.7159 - accuracy: 0.8300\n",
            "Epoch 3/5\n",
            "19/19 [==============================] - 0s 2ms/step - loss: 0.4734 - accuracy: 0.8750\n",
            "Epoch 4/5\n",
            "19/19 [==============================] - 0s 2ms/step - loss: 0.3473 - accuracy: 0.8883\n",
            "Epoch 5/5\n",
            "19/19 [==============================] - 0s 2ms/step - loss: 0.2567 - accuracy: 0.9383\n",
            "313/313 - 0s - loss: 0.5083 - accuracy: 0.8404\n",
            "Epoch 1/5\n",
            "19/19 [==============================] - 0s 2ms/step - loss: 1.8521 - accuracy: 0.4167\n",
            "Epoch 2/5\n",
            "19/19 [==============================] - 0s 2ms/step - loss: 0.9407 - accuracy: 0.8100\n",
            "Epoch 3/5\n",
            "19/19 [==============================] - 0s 2ms/step - loss: 0.5934 - accuracy: 0.8617\n",
            "Epoch 4/5\n",
            "19/19 [==============================] - 0s 3ms/step - loss: 0.4504 - accuracy: 0.8867\n",
            "Epoch 5/5\n",
            "19/19 [==============================] - 0s 2ms/step - loss: 0.3640 - accuracy: 0.9217\n",
            "313/313 - 0s - loss: 0.5358 - accuracy: 0.8429\n",
            "Epoch 1/5\n",
            "19/19 [==============================] - 0s 2ms/step - loss: 0.9997 - accuracy: 0.6700\n",
            "Epoch 2/5\n",
            "19/19 [==============================] - 0s 3ms/step - loss: 0.3971 - accuracy: 0.8633\n",
            "Epoch 3/5\n",
            "19/19 [==============================] - 0s 2ms/step - loss: 0.2392 - accuracy: 0.9350\n",
            "Epoch 4/5\n",
            "19/19 [==============================] - 0s 2ms/step - loss: 0.1328 - accuracy: 0.9500\n",
            "Epoch 5/5\n",
            "19/19 [==============================] - 0s 2ms/step - loss: 0.0929 - accuracy: 0.9817\n",
            "313/313 - 0s - loss: 0.5174 - accuracy: 0.8615\n",
            "Epoch 1/5\n",
            "19/19 [==============================] - 1s 2ms/step - loss: 2.3853 - accuracy: 0.5200\n",
            "Epoch 2/5\n",
            "19/19 [==============================] - 0s 2ms/step - loss: 0.7555 - accuracy: 0.7667\n",
            "Epoch 3/5\n",
            "19/19 [==============================] - 0s 2ms/step - loss: 0.5001 - accuracy: 0.8383\n",
            "Epoch 4/5\n",
            "19/19 [==============================] - 0s 2ms/step - loss: 0.4131 - accuracy: 0.8750\n",
            "Epoch 5/5\n",
            "19/19 [==============================] - 0s 2ms/step - loss: 0.3938 - accuracy: 0.8617\n",
            "313/313 - 0s - loss: 1.2268 - accuracy: 0.7742\n",
            "Epoch 1/5\n",
            "19/19 [==============================] - 0s 2ms/step - loss: 5.1169 - accuracy: 0.4683\n",
            "Epoch 2/5\n",
            "19/19 [==============================] - 0s 2ms/step - loss: 1.2454 - accuracy: 0.6517\n",
            "Epoch 3/5\n",
            "19/19 [==============================] - 0s 2ms/step - loss: 0.9050 - accuracy: 0.7083\n",
            "Epoch 4/5\n",
            "19/19 [==============================] - 0s 2ms/step - loss: 0.9369 - accuracy: 0.7450\n",
            "Epoch 5/5\n",
            "19/19 [==============================] - 0s 2ms/step - loss: 0.9600 - accuracy: 0.7433\n",
            "313/313 - 0s - loss: 1.4268 - accuracy: 0.7115\n",
            "Epoch 1/5\n",
            "19/19 [==============================] - 0s 2ms/step - loss: 25.3583 - accuracy: 0.3050\n",
            "Epoch 2/5\n",
            "19/19 [==============================] - 0s 2ms/step - loss: 2.6456 - accuracy: 0.2800\n",
            "Epoch 3/5\n",
            "19/19 [==============================] - 0s 2ms/step - loss: 1.9141 - accuracy: 0.2683\n",
            "Epoch 4/5\n",
            "19/19 [==============================] - 0s 2ms/step - loss: 2.1609 - accuracy: 0.2417\n",
            "Epoch 5/5\n",
            "19/19 [==============================] - 0s 2ms/step - loss: 1.9648 - accuracy: 0.3100\n",
            "313/313 - 0s - loss: 1.9815 - accuracy: 0.2826\n",
            "Epoch 1/5\n",
            "19/19 [==============================] - 0s 2ms/step - loss: 89.5368 - accuracy: 0.2533\n",
            "Epoch 2/5\n",
            "19/19 [==============================] - 0s 2ms/step - loss: 4.3197 - accuracy: 0.2100\n",
            "Epoch 3/5\n",
            "19/19 [==============================] - 0s 2ms/step - loss: 2.3986 - accuracy: 0.1850\n",
            "Epoch 4/5\n",
            "19/19 [==============================] - 0s 2ms/step - loss: 2.2489 - accuracy: 0.2083\n",
            "Epoch 5/5\n",
            "19/19 [==============================] - 0s 2ms/step - loss: 2.3360 - accuracy: 0.1533\n",
            "313/313 - 0s - loss: 2.3391 - accuracy: 0.1106\n",
            "Epoch 1/5\n",
            "19/19 [==============================] - 0s 2ms/step - loss: 191.2173 - accuracy: 0.2717\n",
            "Epoch 2/5\n",
            "19/19 [==============================] - 0s 2ms/step - loss: 12.0755 - accuracy: 0.1350\n",
            "Epoch 3/5\n",
            "19/19 [==============================] - 0s 2ms/step - loss: 2.3736 - accuracy: 0.0983\n",
            "Epoch 4/5\n",
            "19/19 [==============================] - 0s 2ms/step - loss: 3.2033 - accuracy: 0.1250\n",
            "Epoch 5/5\n",
            "19/19 [==============================] - 0s 2ms/step - loss: 2.3239 - accuracy: 0.1150\n",
            "313/313 - 0s - loss: 3.2289 - accuracy: 0.1102\n",
            "Epoch 1/5\n",
            "19/19 [==============================] - 0s 2ms/step - loss: 293.2465 - accuracy: 0.3000\n",
            "Epoch 2/5\n",
            "19/19 [==============================] - 0s 2ms/step - loss: 5.0383 - accuracy: 0.2450\n",
            "Epoch 3/5\n",
            "19/19 [==============================] - 0s 2ms/step - loss: 2.8206 - accuracy: 0.2200\n",
            "Epoch 4/5\n",
            "19/19 [==============================] - 0s 2ms/step - loss: 2.0532 - accuracy: 0.2217\n",
            "Epoch 5/5\n",
            "19/19 [==============================] - 0s 2ms/step - loss: 2.0132 - accuracy: 0.2233\n",
            "313/313 - 0s - loss: 3.6349 - accuracy: 0.2257\n",
            "Epoch 1/5\n",
            "19/19 [==============================] - 0s 3ms/step - loss: 313.7808 - accuracy: 0.3117\n",
            "Epoch 2/5\n",
            "19/19 [==============================] - 0s 2ms/step - loss: 10.2751 - accuracy: 0.2383\n",
            "Epoch 3/5\n",
            "19/19 [==============================] - 0s 2ms/step - loss: 4.6646 - accuracy: 0.1900\n",
            "Epoch 4/5\n",
            "19/19 [==============================] - 0s 2ms/step - loss: 4.5788 - accuracy: 0.2233\n",
            "Epoch 5/5\n",
            "19/19 [==============================] - 0s 2ms/step - loss: 2.8036 - accuracy: 0.1967\n",
            "313/313 - 0s - loss: 2.9659 - accuracy: 0.1468\n",
            "Epoch 1/5\n",
            "19/19 [==============================] - 0s 2ms/step - loss: 561.3661 - accuracy: 0.2467\n",
            "Epoch 2/5\n",
            "19/19 [==============================] - 0s 2ms/step - loss: 9.8343 - accuracy: 0.2050\n",
            "Epoch 3/5\n",
            "19/19 [==============================] - 0s 2ms/step - loss: 3.4609 - accuracy: 0.1533\n",
            "Epoch 4/5\n",
            "19/19 [==============================] - 0s 2ms/step - loss: 2.4567 - accuracy: 0.1733\n",
            "Epoch 5/5\n",
            "19/19 [==============================] - 0s 2ms/step - loss: 2.2875 - accuracy: 0.1517\n",
            "313/313 - 0s - loss: 3.1093 - accuracy: 0.1273\n",
            "Epoch 1/5\n",
            "19/19 [==============================] - 0s 2ms/step - loss: 956.3983 - accuracy: 0.2017\n",
            "Epoch 2/5\n",
            "19/19 [==============================] - 0s 2ms/step - loss: 2.2939 - accuracy: 0.1733\n",
            "Epoch 3/5\n",
            "19/19 [==============================] - 0s 2ms/step - loss: 2.2718 - accuracy: 0.1417\n",
            "Epoch 4/5\n",
            "19/19 [==============================] - 0s 2ms/step - loss: 2.2789 - accuracy: 0.1717\n",
            "Epoch 5/5\n",
            "19/19 [==============================] - 0s 2ms/step - loss: 2.3385 - accuracy: 0.1350\n",
            "313/313 - 0s - loss: 3.9190 - accuracy: 0.1476\n",
            "Epoch 1/5\n",
            "19/19 [==============================] - 0s 2ms/step - loss: 498.1872 - accuracy: 0.2167\n",
            "Epoch 2/5\n",
            "19/19 [==============================] - 0s 2ms/step - loss: 14.3176 - accuracy: 0.1833\n",
            "Epoch 3/5\n",
            "19/19 [==============================] - 0s 2ms/step - loss: 2.2131 - accuracy: 0.1817\n",
            "Epoch 4/5\n",
            "19/19 [==============================] - 0s 2ms/step - loss: 2.2427 - accuracy: 0.1617\n",
            "Epoch 5/5\n",
            "19/19 [==============================] - 0s 2ms/step - loss: 2.7686 - accuracy: 0.1850\n",
            "313/313 - 0s - loss: 3.5248 - accuracy: 0.1287\n"
          ],
          "name": "stdout"
        }
      ]
    },
    {
      "cell_type": "code",
      "metadata": {
        "id": "iqK_YTODCavd",
        "colab": {
          "base_uri": "https://localhost:8080/"
        },
        "outputId": "c4c88e01-8287-4286-bfb6-526f28461ac3"
      },
      "source": [
        "sub_SGD_train"
      ],
      "execution_count": 22,
      "outputs": [
        {
          "output_type": "execute_result",
          "data": {
            "text/plain": [
              "[0.11666666716337204,\n",
              " 0.6449999809265137,\n",
              " 0.8450000286102295,\n",
              " 0.8799999952316284,\n",
              " 0.9166666865348816,\n",
              " 0.9583333134651184,\n",
              " 0.903333306312561,\n",
              " 0.8383333086967468,\n",
              " 0.6899999976158142,\n",
              " 0.5066666603088379,\n",
              " 0.24166665971279144,\n",
              " 0.1783333271741867]"
            ]
          },
          "metadata": {
            "tags": []
          },
          "execution_count": 22
        }
      ]
    },
    {
      "cell_type": "code",
      "metadata": {
        "colab": {
          "base_uri": "https://localhost:8080/",
          "height": 295
        },
        "id": "kkFpfwAYCbIa",
        "outputId": "a601dee6-08ea-4f5f-fb54-128b861bbe27"
      },
      "source": [
        "# plot lines 'SGD', 'RMSprop', 'Adagrad', 'Adadelta', 'Adam' Accuracy vs Learning Rate => For training Accuracy\n",
        "plt.plot(learning_rates, sub_SGD_train, label = \"SGD\")\n",
        "plt.plot(learning_rates, sub_RMSprop_train, label = \"RMSprop\")\n",
        "plt.plot(learning_rates, sub_Adagrad_train, label = \"Adagrad\")\n",
        "plt.plot(learning_rates, sub_Adadelta_train, label = \"Adadelta\")\n",
        "plt.plot(learning_rates, sub_Adam_train, label = \"Adam\")\n",
        "plt.xlabel(\"Learning Rate\")\n",
        "plt.ylabel(\"Accuracy\")\n",
        "plt.title(\"Optimización con Accuracy de entrenamiento - 600 Img's\")\n",
        "plt.grid()\n",
        "plt.legend()\n",
        "plt.show()"
      ],
      "execution_count": 23,
      "outputs": [
        {
          "output_type": "display_data",
          "data": {
            "image/png": "[encoded data removed]",
            "text/plain": [
              "<Figure size 432x288 with 1 Axes>"
            ]
          },
          "metadata": {
            "tags": [],
            "needs_background": "light"
          }
        }
      ]
    },
    {
      "cell_type": "code",
      "metadata": {
        "colab": {
          "base_uri": "https://localhost:8080/",
          "height": 295
        },
        "id": "_HwWWX-8CeH8",
        "outputId": "fa148359-d5d5-4b4b-9c3e-f1fa9c3583fb"
      },
      "source": [
        "# plot lines 'SGD', 'RMSprop', 'Adagrad', 'Adadelta', 'Adam' Accuracy vs Learning Rate => For validation Accuracy\n",
        "plt.plot(learning_rates, sub_SGD_val, label = \"SGD\")\n",
        "plt.plot(learning_rates, sub_RMSprop_val, label = \"RMSprop\")\n",
        "plt.plot(learning_rates, sub_Adagrad_val, label = \"Adagrad\")\n",
        "plt.plot(learning_rates, sub_Adadelta_val, label = \"Adadelta\")\n",
        "plt.plot(learning_rates, sub_Adam_val, label = \"Adam\")\n",
        "plt.xlabel(\"Learning Rate\")\n",
        "plt.ylabel(\"Accuracy\")\n",
        "plt.title(\"Optimización con Accuracy de validación - 200 Img's\")\n",
        "plt.grid()\n",
        "plt.legend()\n",
        "plt.show()"
      ],
      "execution_count": 24,
      "outputs": [
        {
          "output_type": "display_data",
          "data": {
            "image/png": "[encoded data removed]",
            "text/plain": [
              "<Figure size 432x288 with 1 Axes>"
            ]
          },
          "metadata": {
            "tags": [],
            "needs_background": "light"
          }
        }
      ]
    },
    {
      "cell_type": "markdown",
      "metadata": {
        "id": "26lMB0KdaTxS"
      },
      "source": [
        "* ¿Cuál fue el método de optimización menos afectado por la reducción del conjunto de datos? "
      ]
    },
    {
      "cell_type": "code",
      "metadata": {
        "colab": {
          "base_uri": "https://localhost:8080/"
        },
        "id": "X0ugmvrTgm0x",
        "outputId": "fc2e5c4b-0183-4dfc-9c8e-946b9bbfd21d"
      },
      "source": [
        "#Adam_train - sub_Adam_train Que tanto empeoro\n",
        "zipped_list_Adam = zip(Adam_train, sub_Adam_train)\n",
        "acc_decrease = [abs(x - y) for (x, y) in zipped_list_Adam]\n",
        "total_acc_decrease = sum(acc_decrease)\n",
        "print(\"Absolute difference in accuracy between Full Data and subsample(600) for Adam: {}\".format(total_acc_decrease))"
      ],
      "execution_count": 25,
      "outputs": [
        {
          "output_type": "stream",
          "text": [
            "Absolute difference in accuracy between Full Data and subsample(600) for Adam: 1.1990334019064903\n"
          ],
          "name": "stdout"
        }
      ]
    },
    {
      "cell_type": "code",
      "metadata": {
        "colab": {
          "base_uri": "https://localhost:8080/"
        },
        "id": "UZO-zjVgomKt",
        "outputId": "b29381cb-548c-47cc-f73f-90f9beeb9778"
      },
      "source": [
        "#Adam_test - sub_Adam_test Que tanto empeoro\n",
        "zipped_list_Adam_val = zip(Adam_val, sub_Adam_val)\n",
        "acc_decrease_val = [abs(x - y) for (x, y) in zipped_list_Adam_val]\n",
        "total_acc_decrease = sum(acc_decrease_val)\n",
        "print(\"Absolute difference in accuracy between Full Data and subsample(600) for Adam (test): {}\".format(total_acc_decrease))"
      ],
      "execution_count": 26,
      "outputs": [
        {
          "output_type": "stream",
          "text": [
            "Absolute difference in accuracy between Full Data and subsample(600) for Adam (test): 1.0062999427318573\n"
          ],
          "name": "stdout"
        }
      ]
    },
    {
      "cell_type": "code",
      "metadata": {
        "colab": {
          "base_uri": "https://localhost:8080/"
        },
        "id": "Z7L92dHaoZnM",
        "outputId": "17e89954-42b1-4814-c025-ba4518320b66"
      },
      "source": [
        "  #Adadelta_train - sub_Adadelta_train Que tanto empeoro\n",
        "  zipped_list_Adadelta = zip(Adadelta_train, sub_Adadelta_train)\n",
        "  acc_decrease = [abs(x - y) for (x, y) in zipped_list_Adadelta]\n",
        "  total_acc_decrease = sum(acc_decrease)\n",
        "  print(\"Absolute difference in accuracy between Full Data and subsample(600) for Adadelta: {}\".format(total_acc_decrease))"
      ],
      "execution_count": 27,
      "outputs": [
        {
          "output_type": "stream",
          "text": [
            "Absolute difference in accuracy between Full Data and subsample(600) for Adadelta: 2.572700060904026\n"
          ],
          "name": "stdout"
        }
      ]
    },
    {
      "cell_type": "code",
      "metadata": {
        "colab": {
          "base_uri": "https://localhost:8080/"
        },
        "id": "mz5QQyemo69J",
        "outputId": "bfc6c0f1-ce72-4a58-d4cd-38e56f48713d"
      },
      "source": [
        "#Adadelta_train - sub_Adadelta_train Que tanto empeoro\n",
        "zipped_list_Adadelta_val = zip(Adadelta_val, sub_Adadelta_val)\n",
        "acc_decrease = [abs(x - y) for (x, y) in zipped_list_Adadelta_val]\n",
        "total_acc_decrease = sum(acc_decrease)\n",
        "print(\"Absolute difference in accuracy between Full Data and subsample(600) for Adadelta (test): {}\".format(total_acc_decrease))  "
      ],
      "execution_count": 28,
      "outputs": [
        {
          "output_type": "stream",
          "text": [
            "Absolute difference in accuracy between Full Data and subsample(600) for Adadelta (test): 3.324099972844124\n"
          ],
          "name": "stdout"
        }
      ]
    },
    {
      "cell_type": "code",
      "metadata": {
        "colab": {
          "base_uri": "https://localhost:8080/"
        },
        "id": "WkcxHg0Ap3QJ",
        "outputId": "74f4d114-8773-4229-8493-6f088704f1c1"
      },
      "source": [
        "#SGD_train - sub_SGD_train Que tanto empeoro\n",
        "zipped_list_Adadelta = zip(Adadelta_train, sub_Adadelta_train)\n",
        "acc_decrease = [abs(x - y) for (x, y) in zipped_list_Adadelta]\n",
        "total_acc_decrease = sum(acc_decrease)\n",
        "print(\"Absolute difference in accuracy between Full Data and subsample(600) for SGD: {}\".format(total_acc_decrease))"
      ],
      "execution_count": 29,
      "outputs": [
        {
          "output_type": "stream",
          "text": [
            "Absolute difference in accuracy between Full Data and subsample(600) for SGD: 2.572700060904026\n"
          ],
          "name": "stdout"
        }
      ]
    },
    {
      "cell_type": "code",
      "metadata": {
        "colab": {
          "base_uri": "https://localhost:8080/"
        },
        "id": "OCchWxUqqbmV",
        "outputId": "f32f3d76-4007-45f3-f7a4-8ca448032444"
      },
      "source": [
        "#SGD_test - sub_SGD_test Que tanto empeoro\n",
        "zipped_list_SGD_val = zip(SGD_val, sub_SGD_val)\n",
        "acc_decrease = [abs(x - y) for (x, y) in zipped_list_SGD_val]\n",
        "total_acc_decrease = sum(acc_decrease)\n",
        "print(\"Absolute difference in accuracy between Full Data and subsample(600) for SGD (test): {}\".format(total_acc_decrease))  "
      ],
      "execution_count": 30,
      "outputs": [
        {
          "output_type": "stream",
          "text": [
            "Absolute difference in accuracy between Full Data and subsample(600) for SGD (test): 2.7083999663591385\n"
          ],
          "name": "stdout"
        }
      ]
    },
    {
      "cell_type": "code",
      "metadata": {
        "colab": {
          "base_uri": "https://localhost:8080/"
        },
        "id": "x86ahrivuFbq",
        "outputId": "cfd95b6f-7fad-478e-c3d2-c7c178ef7317"
      },
      "source": [
        "#Adagrad_test - sub_Adagrad_test Que tanto empeoro\n",
        "zipped_list_Adagrad_val = zip(Adagrad_val, sub_Adagrad_val)\n",
        "acc_decrease = [abs(x - y) for (x, y) in zipped_list_Adagrad_val]\n",
        "total_acc_decrease = sum(acc_decrease)\n",
        "print(\"Absolute difference in accuracy between Full Data and subsample(600) for Adagrad (test): {}\".format(total_acc_decrease))  "
      ],
      "execution_count": 31,
      "outputs": [
        {
          "output_type": "stream",
          "text": [
            "Absolute difference in accuracy between Full Data and subsample(600) for Adagrad (test): 3.051400028169155\n"
          ],
          "name": "stdout"
        }
      ]
    },
    {
      "cell_type": "code",
      "metadata": {
        "colab": {
          "base_uri": "https://localhost:8080/"
        },
        "id": "XdCfaPIvub5F",
        "outputId": "b6a36ac0-10e0-4a62-f91e-8852c54ad608"
      },
      "source": [
        "#RMSprop_test - sub_RMSprop_test Que tanto empeoro\n",
        "zipped_list_RMSprop_val = zip(RMSprop_val, sub_RMSprop_val)\n",
        "acc_decrease = [abs(x - y) for (x, y) in zipped_list_RMSprop_val]\n",
        "total_acc_decrease = sum(acc_decrease)\n",
        "print(\"Absolute difference in accuracy between Full Data and subsample(600) for RMSprop (test): {}\".format(total_acc_decrease))  "
      ],
      "execution_count": 32,
      "outputs": [
        {
          "output_type": "stream",
          "text": [
            "Absolute difference in accuracy between Full Data and subsample(600) for RMSprop (test): 1.4722000062465668\n"
          ],
          "name": "stdout"
        }
      ]
    },
    {
      "cell_type": "markdown",
      "metadata": {
        "id": "0sNKQSnToWlQ"
      },
      "source": [
        "De todos los optimizadores observados, el que menos empeoro al disminuir el conjunto de datos de entrenamiento fue SGD"
      ]
    },
    {
      "cell_type": "code",
      "metadata": {
        "colab": {
          "base_uri": "https://localhost:8080/"
        },
        "id": "0u9LgXlRFBco",
        "outputId": "b806fc8a-2587-4609-fa03-66359e873645"
      },
      "source": [
        "for i in range(len(RMSprop_val)):\n",
        "  print(\"acc val: {}, acc val subset: {}, diff: {}, lr: {}\".format(RMSprop_val[i] , sub_RMSprop_val[i], (RMSprop_val[i] - sub_RMSprop_val[i]), learning_rates[i]))"
      ],
      "execution_count": 33,
      "outputs": [
        {
          "output_type": "stream",
          "text": [
            "acc val: 0.9728000164031982, acc val subset: 0.8464999794960022, diff: 0.12630003690719604, lr: 0.001\n",
            "acc val: 0.9621000289916992, acc val subset: 0.8194000124931335, diff: 0.14270001649856567, lr: 0.01\n",
            "acc val: 0.8646000027656555, acc val subset: 0.7365000247955322, diff: 0.1280999779701233, lr: 0.05\n",
            "acc val: 0.7196000218391418, acc val subset: 0.7678999900817871, diff: -0.048299968242645264, lr: 0.1\n",
            "acc val: 0.45320001244544983, acc val subset: 0.42500001192092896, diff: 0.028200000524520874, lr: 0.25\n",
            "acc val: 0.1793999969959259, acc val subset: 0.33160001039505005, diff: -0.15220001339912415, lr: 0.5\n",
            "acc val: 0.1386999934911728, acc val subset: 0.2160000056028366, diff: -0.07730001211166382, lr: 0.75\n",
            "acc val: 0.19480000436306, acc val subset: 0.4334000051021576, diff: -0.2386000007390976, lr: 0.9\n",
            "acc val: 0.23919999599456787, acc val subset: 0.23729999363422394, diff: 0.001900002360343933, lr: 1\n",
            "acc val: 0.2517000138759613, acc val subset: 0.3472000062465668, diff: -0.09549999237060547, lr: 1.2\n",
            "acc val: 0.1347000002861023, acc val subset: 0.3253999948501587, diff: -0.1906999945640564, lr: 1.35\n",
            "acc val: 0.09589999914169312, acc val subset: 0.3382999897003174, diff: -0.24239999055862427, lr: 1.5\n"
          ],
          "name": "stdout"
        }
      ]
    },
    {
      "cell_type": "markdown",
      "metadata": {
        "id": "Mk9QwNgQgjTW"
      },
      "source": [
        "* ¿Cuál fue la tasa de aprendizaje menos afectada por la reducción del conjunto de datos?\n"
      ]
    },
    {
      "cell_type": "code",
      "metadata": {
        "colab": {
          "base_uri": "https://localhost:8080/"
        },
        "id": "L6OGpvj2a21p",
        "outputId": "76afcd16-ee3b-4d57-d856-3e98018e2518"
      },
      "source": [
        "#SGD Optimizer - Test set\n",
        "for i in range(len(SGD_train)):\n",
        "  print(\"acc val: {}, acc val subset: {}, diff: {}, lr: {}\".format(SGD_val[i] , sub_SGD_val[i], (SGD_val[i] - sub_SGD_val[i]), learning_rates[i]))"
      ],
      "execution_count": 34,
      "outputs": [
        {
          "output_type": "stream",
          "text": [
            "acc val: 0.8841999769210815, acc val subset: 0.1451999992132187, diff: 0.7389999777078629, lr: 0.001\n",
            "acc val: 0.9409999847412109, acc val subset: 0.6223999857902527, diff: 0.31859999895095825, lr: 0.01\n",
            "acc val: 0.9688000082969666, acc val subset: 0.7922999858856201, diff: 0.17650002241134644, lr: 0.05\n",
            "acc val: 0.9750000238418579, acc val subset: 0.8241000175476074, diff: 0.1509000062942505, lr: 0.1\n",
            "acc val: 0.9761999845504761, acc val subset: 0.8320000171661377, diff: 0.14419996738433838, lr: 0.25\n",
            "acc val: 0.9714000225067139, acc val subset: 0.8050000071525574, diff: 0.1664000153541565, lr: 0.5\n",
            "acc val: 0.9598000049591064, acc val subset: 0.822700023651123, diff: 0.1370999813079834, lr: 0.75\n",
            "acc val: 0.9420999884605408, acc val subset: 0.7878000140190125, diff: 0.15429997444152832, lr: 0.9\n",
            "acc val: 0.9466000199317932, acc val subset: 0.7706000208854675, diff: 0.17599999904632568, lr: 1\n",
            "acc val: 0.7188000082969666, acc val subset: 0.390500009059906, diff: 0.32829999923706055, lr: 1.2\n",
            "acc val: 0.44130000472068787, acc val subset: 0.3301999866962433, diff: 0.11110001802444458, lr: 1.35\n",
            "acc val: 0.28940001130104065, acc val subset: 0.1834000051021576, diff: 0.10600000619888306, lr: 1.5\n"
          ],
          "name": "stdout"
        }
      ]
    },
    {
      "cell_type": "markdown",
      "metadata": {
        "id": "w28Qx3zb4qRH"
      },
      "source": [
        "Para SGD el learning rate que se vio menos afectado por la reducción del dataset es 1.5\n"
      ]
    },
    {
      "cell_type": "code",
      "metadata": {
        "colab": {
          "base_uri": "https://localhost:8080/"
        },
        "id": "VNd0b79IxQuo",
        "outputId": "fe1027a8-4728-41bd-d5c5-ce03f25850c4"
      },
      "source": [
        "#Adadelta Optimizer - Test set\n",
        "for i in range(len(Adadelta_train)):\n",
        "  print(\"acc val: {}, acc val subset: {}, diff: {}, lr: {}\".format(Adadelta_val[i] , sub_Adadelta_val[i], (Adadelta_val[i] - sub_Adadelta_val[i]), learning_rates[i]))"
      ],
      "execution_count": 35,
      "outputs": [
        {
          "output_type": "stream",
          "text": [
            "acc val: 0.6703000068664551, acc val subset: 0.15790000557899475, diff: 0.5124000012874603, lr: 0.001\n",
            "acc val: 0.8873000144958496, acc val subset: 0.14790000021457672, diff: 0.7394000142812729, lr: 0.01\n",
            "acc val: 0.9276999831199646, acc val subset: 0.44999998807907104, diff: 0.47769999504089355, lr: 0.05\n",
            "acc val: 0.9406999945640564, acc val subset: 0.5882999897003174, diff: 0.352400004863739, lr: 0.1\n",
            "acc val: 0.9589999914169312, acc val subset: 0.7419999837875366, diff: 0.21700000762939453, lr: 0.25\n",
            "acc val: 0.9703999757766724, acc val subset: 0.7986000180244446, diff: 0.17179995775222778, lr: 0.5\n",
            "acc val: 0.9721999764442444, acc val subset: 0.8263000249862671, diff: 0.1458999514579773, lr: 0.75\n",
            "acc val: 0.9725000262260437, acc val subset: 0.8266000151634216, diff: 0.14590001106262207, lr: 0.9\n",
            "acc val: 0.9749000072479248, acc val subset: 0.8270000219345093, diff: 0.14789998531341553, lr: 1\n",
            "acc val: 0.9750000238418579, acc val subset: 0.8300999999046326, diff: 0.14490002393722534, lr: 1.2\n",
            "acc val: 0.9779000282287598, acc val subset: 0.8458999991416931, diff: 0.13200002908706665, lr: 1.35\n",
            "acc val: 0.9771999716758728, acc val subset: 0.840399980545044, diff: 0.13679999113082886, lr: 1.5\n"
          ],
          "name": "stdout"
        }
      ]
    },
    {
      "cell_type": "markdown",
      "metadata": {
        "id": "cmb6LIXTo3aX"
      },
      "source": [
        "Para Adadelta el learning rate que se vio menos afectado por la reducción del dataset es 1.35\n"
      ]
    },
    {
      "cell_type": "code",
      "metadata": {
        "colab": {
          "base_uri": "https://localhost:8080/"
        },
        "id": "Y1R7Z1S-BCJ7",
        "outputId": "17f834f5-6c6e-4e34-b1c6-ec68d41f4ba0"
      },
      "source": [
        "#Adam Optimizer - Test set\n",
        "for i in range(len(Adam_train)):\n",
        "  print(\"acc val: {}, acc val subset: {}, diff: {}, lr: {}\".format(Adam_val[i] , sub_Adam_val[i], (Adam_val[i] - sub_Adam_val[i]), learning_rates[i]))"
      ],
      "execution_count": 36,
      "outputs": [
        {
          "output_type": "stream",
          "text": [
            "acc val: 0.975600004196167, acc val subset: 0.8428999781608582, diff: 0.13270002603530884, lr: 0.001\n",
            "acc val: 0.9517999887466431, acc val subset: 0.8615000247955322, diff: 0.09029996395111084, lr: 0.01\n",
            "acc val: 0.8199999928474426, acc val subset: 0.7742000222206116, diff: 0.045799970626831055, lr: 0.05\n",
            "acc val: 0.4359000027179718, acc val subset: 0.7114999890327454, diff: -0.27559998631477356, lr: 0.1\n",
            "acc val: 0.11349999904632568, acc val subset: 0.2825999855995178, diff: -0.16909998655319214, lr: 0.25\n",
            "acc val: 0.09740000218153, acc val subset: 0.11060000211000443, diff: -0.013199999928474426, lr: 0.5\n",
            "acc val: 0.0957999974489212, acc val subset: 0.11020000278949738, diff: -0.014400005340576172, lr: 0.75\n",
            "acc val: 0.0957999974489212, acc val subset: 0.2257000058889389, diff: -0.1299000084400177, lr: 0.9\n",
            "acc val: 0.11379999667406082, acc val subset: 0.1467999964952469, diff: -0.032999999821186066, lr: 1\n",
            "acc val: 0.09740000218153, acc val subset: 0.12729999423027039, diff: -0.029899992048740387, lr: 1.2\n",
            "acc val: 0.10279999673366547, acc val subset: 0.147599995136261, diff: -0.04479999840259552, lr: 1.35\n",
            "acc val: 0.10109999775886536, acc val subset: 0.12870000302791595, diff: -0.027600005269050598, lr: 1.5\n"
          ],
          "name": "stdout"
        }
      ]
    },
    {
      "cell_type": "markdown",
      "metadata": {
        "id": "_L803gxxo63w"
      },
      "source": [
        "Para Adam el learning rate que se vio menos afectado por la reducción del dataset es 0.05\n"
      ]
    },
    {
      "cell_type": "code",
      "metadata": {
        "colab": {
          "base_uri": "https://localhost:8080/"
        },
        "id": "2HUSIPi_BP1D",
        "outputId": "1cd85de1-b9a3-448f-cd3b-f002901e6887"
      },
      "source": [
        "#RMSprop Optimizer - Test set\n",
        "for i in range(len(RMSprop_train)):\n",
        "  print(\"acc val: {}, acc val subset: {}, diff: {}, lr: {}\".format(RMSprop_val[i] , sub_RMSprop_val[i], (RMSprop_val[i] - sub_RMSprop_val[i]), learning_rates[i]))"
      ],
      "execution_count": 37,
      "outputs": [
        {
          "output_type": "stream",
          "text": [
            "acc val: 0.9728000164031982, acc val subset: 0.8464999794960022, diff: 0.12630003690719604, lr: 0.001\n",
            "acc val: 0.9621000289916992, acc val subset: 0.8194000124931335, diff: 0.14270001649856567, lr: 0.01\n",
            "acc val: 0.8646000027656555, acc val subset: 0.7365000247955322, diff: 0.1280999779701233, lr: 0.05\n",
            "acc val: 0.7196000218391418, acc val subset: 0.7678999900817871, diff: -0.048299968242645264, lr: 0.1\n",
            "acc val: 0.45320001244544983, acc val subset: 0.42500001192092896, diff: 0.028200000524520874, lr: 0.25\n",
            "acc val: 0.1793999969959259, acc val subset: 0.33160001039505005, diff: -0.15220001339912415, lr: 0.5\n",
            "acc val: 0.1386999934911728, acc val subset: 0.2160000056028366, diff: -0.07730001211166382, lr: 0.75\n",
            "acc val: 0.19480000436306, acc val subset: 0.4334000051021576, diff: -0.2386000007390976, lr: 0.9\n",
            "acc val: 0.23919999599456787, acc val subset: 0.23729999363422394, diff: 0.001900002360343933, lr: 1\n",
            "acc val: 0.2517000138759613, acc val subset: 0.3472000062465668, diff: -0.09549999237060547, lr: 1.2\n",
            "acc val: 0.1347000002861023, acc val subset: 0.3253999948501587, diff: -0.1906999945640564, lr: 1.35\n",
            "acc val: 0.09589999914169312, acc val subset: 0.3382999897003174, diff: -0.24239999055862427, lr: 1.5\n"
          ],
          "name": "stdout"
        }
      ]
    },
    {
      "cell_type": "markdown",
      "metadata": {
        "id": "l9PTKGFTo98A"
      },
      "source": [
        "Para RMSprop el learning rate que se vio menos afectado por la reducción del dataset es 1\n"
      ]
    },
    {
      "cell_type": "code",
      "metadata": {
        "colab": {
          "base_uri": "https://localhost:8080/"
        },
        "id": "z5-TkDDQCwmy",
        "outputId": "14776907-e739-4288-d173-0e6db4b91f39"
      },
      "source": [
        "#Adagrad Optimizer - Test set\n",
        "for i in range(len(Adagrad_train)):\n",
        "  print(\"acc val: {}, acc val subset: {}, diff: {}, lr: {}\".format(Adagrad_val[i] , sub_Adagrad_val[i], (Adagrad_val[i] - sub_Adagrad_val[i]), learning_rates[i]))"
      ],
      "execution_count": 38,
      "outputs": [
        {
          "output_type": "stream",
          "text": [
            "acc val: 0.9010999798774719, acc val subset: 0.2971999943256378, diff: 0.6038999855518341, lr: 0.001\n",
            "acc val: 0.9541000127792358, acc val subset: 0.760200023651123, diff: 0.1938999891281128, lr: 0.01\n",
            "acc val: 0.975600004196167, acc val subset: 0.8360000252723694, diff: 0.1395999789237976, lr: 0.05\n",
            "acc val: 0.9779000282287598, acc val subset: 0.8248999714851379, diff: 0.15300005674362183, lr: 0.1\n",
            "acc val: 0.9739000201225281, acc val subset: 0.8585000038146973, diff: 0.11540001630783081, lr: 0.25\n",
            "acc val: 0.9578999876976013, acc val subset: 0.6069999933242798, diff: 0.35089999437332153, lr: 0.5\n",
            "acc val: 0.8306999802589417, acc val subset: 0.383899986743927, diff: 0.44679999351501465, lr: 0.75\n",
            "acc val: 0.8773000240325928, acc val subset: 0.16300000250339508, diff: 0.7143000215291977, lr: 0.9\n",
            "acc val: 0.10100000351667404, acc val subset: 0.2092999964952469, diff: -0.10829999297857285, lr: 1\n",
            "acc val: 0.23649999499320984, acc val subset: 0.13120000064373016, diff: 0.10529999434947968, lr: 1.2\n",
            "acc val: 0.20909999310970306, acc val subset: 0.15449999272823334, diff: 0.05460000038146973, lr: 1.35\n",
            "acc val: 0.11349999904632568, acc val subset: 0.17890000343322754, diff: -0.06540000438690186, lr: 1.5\n"
          ],
          "name": "stdout"
        }
      ]
    },
    {
      "cell_type": "markdown",
      "metadata": {
        "id": "rYPd1JiTpoX7"
      },
      "source": [
        "Para Adagrad el learning rate que se vio menos afectado por la reducción del dataset es 1.35\n"
      ]
    },
    {
      "cell_type": "markdown",
      "metadata": {
        "id": "qh9As42jg_rB"
      },
      "source": [
        "* ¿Cuál fue el método que más rápido convergió?  \n",
        "\n",
        "El método que más rapido puede converger es el <b>Adadelta</b>, debido a que para alcanzar un buen rendimiento requiere de valores altos de learning rate, el learning rate determina que tan largo sea el camino que tomara el algoritmo de optimización por lo que el Adadelta al funcionar mejor con valores altos, tardara menos tiempo en realizar la optimización ya que a diferencia de los demás métodos dará pasos más largos.\n"
      ]
    }
  ]
}